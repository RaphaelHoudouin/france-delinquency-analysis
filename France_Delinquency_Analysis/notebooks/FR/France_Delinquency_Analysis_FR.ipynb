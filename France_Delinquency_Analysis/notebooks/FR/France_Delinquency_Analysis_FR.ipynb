{
 "cells": [
  {
   "cell_type": "code",
   "execution_count": null,
   "id": "637374fe",
   "metadata": {},
   "outputs": [],
   "source": [
    "#Import des bibliothèques\n",
    "import pandas as pd\n",
    "import numpy as np\n",
    "import matplotlib.pyplot as plt\n",
    "import seaborn as sns\n",
    "import plotly.io as pio\n",
    "import plotly.graph_objects as go\n",
    "import plotly.express as px\n",
    "import geopandas as gpd\n",
    "%matplotlib inline\n",
    "\n",
    "from scipy.stats import pearsonr\n",
    "import statsmodels.api\n",
    "\n",
    "pd.set_option('display.max_columns',None)\n",
    "pd.set_option('display.max_rows',None)\n",
    "\n",
    "sns.set_theme(style='whitegrid', palette='pastel')\n",
    "#sns.set_theme(style = \"ticks\", context = \"talk\", palette = \"bright\")\n",
    "#sns.color_palette(\"Paired\")"
   ]
  },
  {
   "cell_type": "code",
   "execution_count": null,
   "id": "cc45416b-825b-469f-a4bf-ad455eb552e5",
   "metadata": {},
   "outputs": [],
   "source": [
    "#Import des DataFrames\n",
    "commune=pd.read_parquet('donnee-comm-data.gouv-parquet-2023-geographie2024-produit-le2024-07-05.parquet')\n",
    "dep=pd.read_csv('donnee-dep-data.gouv-2023-geographie2024-produit-le2024-07-05.csv',sep=';')\n",
    "reg=pd.read_csv('donnee-reg-data.gouv-2023-geographie2024-produit-le2024-07-05.csv',sep=';')\n",
    "commune.tail(10)"
   ]
  },
  {
   "cell_type": "markdown",
   "id": "e6e91411",
   "metadata": {},
   "source": [
    "# I) Nettoyage des données dans les différents DataFrames\n",
    "## A) Vérification de la cohérence et de l'uniformité des données\n",
    "### 1) Vérification de la cohérence\n",
    "Tout d'abord, il convient de vérifier que chaque variable est au bon type. L'objectif est d'avoir une uniformité des types de valeurs entre les 3 DataFrames (commune, dep et reg). \n",
    "A noter que les dates seront traitées séparément car elles font l'objet d'une traitement particulier\n"
   ]
  },
  {
   "cell_type": "code",
   "execution_count": null,
   "id": "c5628234",
   "metadata": {},
   "outputs": [],
   "source": [
    "## DataFrame commune\n",
    "#les colonnes classe et unité.de.compte doivent être au format object\n",
    "commune['classe']=commune['classe'].astype('str')\n",
    "commune['unité.de.compte']=commune['unité.de.compte'].astype('str')\n",
    "commune.info()"
   ]
  },
  {
   "cell_type": "code",
   "execution_count": null,
   "id": "8c5f265f",
   "metadata": {},
   "outputs": [],
   "source": [
    "## DataFrame dep\n",
    "#La colonne taux pour mille n'est pas au bon type, il convient de changer le type object au type float\n",
    "#Pour cela, il est nécessaire de changer chaque virgule par un point. \n",
    "#On en profitera pour arrondir les valeurs à 10-3\n",
    "\n",
    "dep['tauxpourmille']=dep['tauxpourmille'].str.replace(',', '.')\n",
    "dep['tauxpourmille']=dep['tauxpourmille'].astype(float)\n",
    "dep['tauxpourmille']=dep['tauxpourmille'].round(3)\n",
    "dep.info()\n"
   ]
  },
  {
   "cell_type": "code",
   "execution_count": null,
   "id": "1b60288b",
   "metadata": {},
   "outputs": [],
   "source": [
    "## DataFrame reg\n",
    "#La colonne taux pour mille n'est pas au bon type, il convient de changer le type object au type float\n",
    "reg['tauxpourmille']=reg['tauxpourmille'].str.replace(',', '.')\n",
    "reg['tauxpourmille']=reg['tauxpourmille'].astype(float)\n",
    "reg['tauxpourmille']=reg['tauxpourmille'].round(3)\n",
    "reg.info()"
   ]
  },
  {
   "cell_type": "markdown",
   "id": "68351fdc",
   "metadata": {},
   "source": [
    "### 2) Vérification de l'uniformité des données\n",
    "Il convient de vérifier que les données sont uniformes, c'est à dire qu'elles doivent être écrites toujours de la même manière en respectant une règle unique\n",
    "#### a) Données quantitatives"
   ]
  },
  {
   "cell_type": "code",
   "execution_count": null,
   "id": "0f13ac01",
   "metadata": {},
   "outputs": [],
   "source": [
    "reg.head(1)"
   ]
  },
  {
   "cell_type": "code",
   "execution_count": null,
   "id": "eec449c4",
   "metadata": {},
   "outputs": [],
   "source": [
    "## DataFrame commune\n",
    "commune['annee'].unique() #Toutes les années sont écrites au même format\n",
    "commune['classe'].unique() #Toutes les classes sont écrites au même format et il n'y en a pas deux identiques écrites différemment \n",
    "commune['unité.de.compte'].unique() #Ici victime et victime entendue correspondent a la même unité de compte. Il faut donc modifier cela \n",
    "commune['unité.de.compte']=commune['unité.de.compte'].replace('victime entendue','victime')\n",
    "commune['valeur.publiée'].unique() #Toutes les valeurs publiées sont écrites au même format \n",
    "\n",
    "## DataFrame dep\n",
    "dep['annee'].unique() #Toutes les années sont écrites au même format\n",
    "dep['classe'].unique() #Toutes les années sont écrites au même format\n",
    "dep['Code.département'].unique() #Tous les départements sont écrits au même format doublon. A noter qu'il est normal que la valeur \"20\" soit manquante puisqu'il s'agit de la corse, dont le code a été remplacé en 1976 par 2A et 2B\n",
    "dep['unité.de.compte'].unique() #Ici victime et victime entendue correspondent a la même unité de compte. Il faut donc modifier cela \n",
    "dep['unité.de.compte']=dep['unité.de.compte'].replace('victime entendue','victime')\n",
    "\n",
    "## DataFrame reg\n",
    "reg['annee'].unique() #Toutes les années sont écrites au même format\n",
    "reg['classe'].unique() #Toutes les années sont écrites au même format\n",
    "reg['Code.région'].unique() #Toutes les régions sont présentes et sont écrites au même format "
   ]
  },
  {
   "cell_type": "markdown",
   "id": "8d429370",
   "metadata": {},
   "source": [
    "#### b) Dates\n",
    "L'étude des formats a démontré que les dates (ici \"annee\") sont au format int, ce qui est incorrect. Pour la suite de l'analyse, ces variables doivent être au format datetime64. "
   ]
  },
  {
   "cell_type": "code",
   "execution_count": null,
   "id": "039f2e2f",
   "metadata": {},
   "outputs": [],
   "source": [
    "commune['annee'] = pd.to_datetime(commune['annee'].apply(lambda x: f\"20{x:02d}\")).dt.year\n",
    "dep['annee'] = pd.to_datetime(dep['annee'].apply(lambda x: f\"20{x:02d}\")).dt.year\n",
    "reg['annee'] = pd.to_datetime(reg['annee'].apply(lambda x: f\"20{x:02d}\")).dt.year"
   ]
  },
  {
   "cell_type": "code",
   "execution_count": null,
   "id": "bb7a1e04",
   "metadata": {},
   "outputs": [],
   "source": [
    "commune.info()"
   ]
  },
  {
   "cell_type": "markdown",
   "id": "a817e5c3",
   "metadata": {},
   "source": [
    "## B) Vérifications des doublons"
   ]
  },
  {
   "cell_type": "code",
   "execution_count": null,
   "id": "5fd9f2e8-95a2-49b3-9c2c-dc80e429bb8d",
   "metadata": {},
   "outputs": [],
   "source": [
    "# Recherche de doublons \n",
    "print('Il y a',commune.duplicated().sum(),'doublons dans le df commune')\n",
    "print('Il y a',dep.duplicated().sum(),'doublons dans le df dep')\n",
    "print('Il y a',reg.duplicated().sum(),'doublons dans le df reg')"
   ]
  },
  {
   "cell_type": "markdown",
   "id": "87ce2818",
   "metadata": {},
   "source": [
    "## C) Vérification des valeurs manquantes\n",
    "### 1) Analyse globale"
   ]
  },
  {
   "cell_type": "code",
   "execution_count": null,
   "id": "cb1bf059-0a08-4b08-badb-0abb1d476e3f",
   "metadata": {},
   "outputs": [],
   "source": [
    "# Recherche de valeurs manquantes du df departement \n",
    "print('Il y a',dep.isna().any(axis = 0).sum(),'colonnes contenant des valeurs manquantes dans le df departement')\n",
    "# Recherche de valeurs manquantes sur les lignes du df département\n",
    "#dep.isna().any(axis = 1).sum() Inutile donc "
   ]
  },
  {
   "cell_type": "code",
   "execution_count": null,
   "id": "fae11c7f",
   "metadata": {},
   "outputs": [],
   "source": [
    "# Recherche de valeurs manquantes du df région\n",
    "print('Il y a',reg.isna().any(axis = 0).sum(),'colonnes contenant des valeurs manquantes dans le df reg')\n",
    "# Recherche de valeurs manquantes sur les lignes du df régions\n",
    "#reg.isna().any(axis = 1).sum() Inutile donc "
   ]
  },
  {
   "cell_type": "code",
   "execution_count": null,
   "id": "edd6161a",
   "metadata": {},
   "outputs": [],
   "source": [
    "# Recherche de valeurs manquantes sur les colonnes du df commune\n",
    "print('Il y a',commune.isna().any(axis = 0).sum(),'colonnes contenant des valeurs manquantes dans le df commune') \n",
    "# Recherche de valeurs manquantes sur les lignes du df communes\n",
    "print('Il y a',commune.isna().any(axis = 1).sum(),'lignes contenant des valeurs manquantes sur',commune.shape[0],'lignes sur le df.')\n",
    "print('Les colonnes concernées sont les colonnes faits, taux pour mille, complementinfoval, complementinfototaux')"
   ]
  },
  {
   "cell_type": "markdown",
   "id": "ff67b915",
   "metadata": {},
   "source": [
    "### 2) Traitement des valeurs manquantes\n",
    "Le fichier des métadonnées du dataset indique que si la variable contenue dans la colonne \"valeur.publiée\" vaut ndiff, alors les variables contenues dans la colonne \"faits\" et \"tauxpourmille\" ne seront pas renseignées. De ce fait, il a été décidé de supprimer toutes les lignes donc la colonne \"valeur.publiée\" vaut ndiff. "
   ]
  },
  {
   "cell_type": "code",
   "execution_count": null,
   "id": "46ea0501",
   "metadata": {},
   "outputs": [],
   "source": [
    "#Suppression des valeurs manquantes dans la colonne \"faits\"\n",
    "commune.loc[commune['valeur.publiée'] == 'ndiff', 'faits'] = 0.0\n",
    "\n",
    "#Suppression des valeurs manquantes dans la colonne \"tauxpourmille\"\n",
    "commune.loc[commune['valeur.publiée'] == 'ndiff', 'tauxpourmille'] = 0.0\n",
    "commune.isna().any(axis = 0)\n",
    "#On  observe qu'il reste des NaN. On les localise et on étudie\n",
    "commune.loc[commune[['tauxpourmille']].isna().any(axis=1)]\n",
    "#Les NAN restants peuvent être recalculés car le taux pour mille est le nombre de faits divisé par le nombre d'habitants multiplié par 1000 \n",
    "commune['millPOP'].unique() #On vérifie que millPOP ne prend pas la valeur 0 auquel cas la division serait impossible \n",
    "commune['tauxpourmille']=commune['tauxpourmille'].fillna((commune['faits']/commune['POP'])*1000)\n",
    "\n",
    "#Il reste des NaNs dans taux pour mille, il s'agit des villes dans lesquelles il y a 0 habitants. \n",
    "commune['tauxpourmille']=commune['tauxpourmille'].fillna(0) \n",
    "#commune = commune.dropna(axis = 0, how = 'all', subset = ['tauxpourmille']) \n",
    "\n",
    "display(pd.DataFrame(commune.isna().sum(), columns=[\"Nombre de NA\"]))  \n",
    "\n",
    "#Les colonnes \"complementinfoval\" et \"complementinfototaux\" contiennent encore des NaN mais ne sont pas utiles pour l'étude. "
   ]
  },
  {
   "cell_type": "markdown",
   "id": "56ade08c",
   "metadata": {},
   "source": [
    "Certaines colonnes ne sont pas utiles pour cette étude. Il convient donc de les supprimer. \n",
    "Si dans le futur il s'avère qu'il est nécessaire de les garder, il suffira de supprimer la cellule suivante."
   ]
  },
  {
   "cell_type": "code",
   "execution_count": null,
   "id": "6b2b2fff",
   "metadata": {},
   "outputs": [],
   "source": [
    "## DataFrame commune\n",
    "commune=commune.drop(\"complementinfoval\", axis=1)\n",
    "commune=commune.drop(\"complementinfotaux\", axis=1)\n",
    "commune=commune.drop(\"LOG\", axis=1)\n",
    "commune=commune.drop(\"millLOG\", axis=1)\n",
    "commune=commune.drop(\"millPOP\", axis=1)\n",
    "commune=commune.drop(\"valeur.publiée\", axis=1)\n",
    "## DataFrame reg\n",
    "reg=reg.drop(\"LOG\", axis=1)\n",
    "reg=reg.drop(\"millLOG\", axis=1)\n",
    "reg=reg.drop(\"millPOP\", axis=1)\n",
    "## DataFrame dep\n",
    "dep=dep.drop(\"LOG\", axis=1)\n",
    "dep=dep.drop(\"millLOG\", axis=1)\n",
    "dep=dep.drop(\"millPOP\", axis=1)\n",
    "\n",
    "\n"
   ]
  },
  {
   "cell_type": "markdown",
   "id": "ec926076",
   "metadata": {},
   "source": [
    "## D) Autres préprocessings\n",
    "Renommage des colonnes pour une meilleure lisibilité. "
   ]
  },
  {
   "cell_type": "code",
   "execution_count": null,
   "id": "3129d9b7",
   "metadata": {},
   "outputs": [],
   "source": [
    "## DataFrame commune\n",
    "dictionnaire = {'CODGEO_2024': 'codgeo',\n",
    "                'unité.de.compte': 'cible',\n",
    "                'valeur.publiée': 'publication',\n",
    "                'POP':'pop',\n",
    "                'millPOP':'millpop'}\n",
    "commune=commune.rename(dictionnaire, axis = 1) \n",
    "## DataFrame reg\n",
    "dictionnaire = {'Code.région': 'region',\n",
    "                'unité.de.compte': 'cible',\n",
    "                'POP':'pop',\n",
    "                'millPOP':'millpop'}\n",
    "reg=reg.rename(dictionnaire, axis = 1)\n",
    "## DataFrame dep\n",
    "dictionnaire = {'Code.département': 'departement',\n",
    "                'Code.région': 'region',\n",
    "                'unité.de.compte': 'cible',\n",
    "                'POP':'pop',\n",
    "                'millPOP':'millpop'}\n",
    "dep=dep.rename(dictionnaire, axis = 1)\n",
    "#dep.head(1)"
   ]
  },
  {
   "cell_type": "markdown",
   "id": "29f50e09",
   "metadata": {},
   "source": [
    "Les codes des départements et des régions ne sont que très peu parlants. Afin de faciliter le post-processing des études, il convient de remplacer les codes par leur nom complet. "
   ]
  },
  {
   "cell_type": "code",
   "execution_count": null,
   "id": "3ed01c7b",
   "metadata": {},
   "outputs": [],
   "source": [
    "## DataFrame reg\n",
    "#L'idée est ici de créer un dictionnaire clé-valeur issu d'un json (source dans le fichier README) pour \"traduire\" le code dans le nom de la région\n",
    "json_cles_reg=pd.read_json('anciennes-nouvelles-regions.json')\n",
    "dico_reg=json_cles_reg.set_index('new_code')['region'].to_dict()\n",
    "reg['region']=reg['region'].map(dico_reg)\n",
    "reg.tail(10)"
   ]
  },
  {
   "cell_type": "code",
   "execution_count": null,
   "id": "62fbbad9",
   "metadata": {},
   "outputs": [],
   "source": [
    "## DataFrame dep \n",
    "#On commence par modifier comme précédemment les codes des régions par leur nom \n",
    "dep['region']=dep['region'].map(dico_reg)\n",
    "#Ensuite il va falloir créer un nouveau dictionnaire clé-valeur avec un fichier csv (source dans le fichier README)\n",
    "csv_cles_dep=pd.read_csv('georef-france-departement.csv',sep = ';')\n",
    "dico_dep=csv_cles_dep.set_index('Code Officiel Département')['Nom Officiel Département Majuscule'].to_dict()\n",
    "dep['departement']=dep['departement'].map(dico_dep)\n",
    "dep.head()"
   ]
  },
  {
   "cell_type": "code",
   "execution_count": null,
   "id": "474aaa4f",
   "metadata": {},
   "outputs": [],
   "source": [
    "## DataFrame commune \n",
    "csv_cles_com=pd.read_csv('v_commune_2024.csv')\n",
    "dico_com=csv_cles_com.set_index('COM')['NCC'].to_dict()\n",
    "commune['codgeo']=commune['codgeo'].map(dico_com)\n",
    "\n",
    "commune.head(1)"
   ]
  },
  {
   "cell_type": "code",
   "execution_count": null,
   "id": "1e6a8b8a",
   "metadata": {},
   "outputs": [],
   "source": [
    "#Il convient de vérifier que les étapes précédentes n'ont pas généré de NaN \n",
    "print('Il y a',dep.isna().any(axis = 0).sum(),'colonnes contenant des valeurs manquantes dans le df departements')\n",
    "print('Il y a',reg.isna().any(axis = 0).sum(),'colonnes contenant des valeurs manquantes dans le df regions')\n",
    "print('Il y a',commune.isna().any(axis = 0).sum(),'colonnes contenant des valeurs manquantes dans le df communes')"
   ]
  },
  {
   "cell_type": "code",
   "execution_count": null,
   "id": "e4e6baa1",
   "metadata": {},
   "outputs": [],
   "source": [
    "#On peut renommer la colonne \"codgeo\" qui n'est plus représentatif des variables qu'elle contient\n",
    "dictionnaire = {'codgeo': 'ville',\n",
    "                }\n",
    "commune=commune.rename(dictionnaire, axis = 1)\n",
    "commune.head(1)\n"
   ]
  },
  {
   "cell_type": "markdown",
   "id": "a2a09d69",
   "metadata": {},
   "source": [
    "# II) Statistiques exploratoires\n",
    "## A) Analyse descriptive des jeux de données \n",
    "Un des objectifs sous-jacents est l'étude et le traitement des outliers\n",
    "### 1) DataFrame commune\n",
    "\n",
    "#### a) Variables quantitatives"
   ]
  },
  {
   "cell_type": "code",
   "execution_count": null,
   "id": "675abc19",
   "metadata": {},
   "outputs": [],
   "source": [
    "##DataFrame commune\n",
    "commune.describe()\n",
    "#On observe une très grand disparité dans le nombre de faits"
   ]
  },
  {
   "cell_type": "markdown",
   "id": "8613f0e1",
   "metadata": {},
   "source": [
    "Variable faits"
   ]
  },
  {
   "cell_type": "code",
   "execution_count": null,
   "id": "7dc4d596",
   "metadata": {},
   "outputs": [],
   "source": [
    "#On trace le diagramme en moustache qui affiche la répartition des faits\n",
    "sns.boxplot(x = 'faits', data = commune)\n",
    "#On observe qu'il y a 8 outliers. Afin de procéder au traitement le plus adapté, il va falloir étudier si ce sont des valeurs extrêmes ou des valeurs aberrantes. \n",
    "\n",
    "#Pour cela, on trie le DataFrame par nombre de faits décroissants \n",
    "comm_sorted = commune.sort_values(by = 'faits', ascending = False)\n",
    "comm_sorted.head(10) "
   ]
  },
  {
   "cell_type": "markdown",
   "id": "28077cc0",
   "metadata": {},
   "source": [
    "On observe que le nombre de faits varie énormément et est très important en région Parisienne.  \n",
    "Ces valeurs représentent des valeurs extrêmes et non des valeurs aberrantes. Elles sont donc gardées dans le dataset. "
   ]
  },
  {
   "cell_type": "markdown",
   "id": "3c1747f0",
   "metadata": {},
   "source": [
    "Variable pop (population)"
   ]
  },
  {
   "cell_type": "code",
   "execution_count": null,
   "id": "0ed170a4",
   "metadata": {},
   "outputs": [],
   "source": [
    "#On trace le diagramme en moustache qui affiche la répartition\n",
    "sns.boxplot(x = 'pop', data = commune)\n",
    "\n",
    "#Pour cela, on trie le DataFrame par nombre de faits décroissants \n",
    "comm_sorted = commune.sort_values(by = 'pop', ascending = False)\n",
    "comm_sorted.head(10) "
   ]
  },
  {
   "cell_type": "code",
   "execution_count": null,
   "id": "7c1ed9f2",
   "metadata": {},
   "outputs": [],
   "source": [
    "#Etude hors Paris et Marseille\n",
    "comm_sorted_out = commune.loc[~commune['ville'].isin(['PARIS', 'MARSEILLE'])].sort_values(by='pop', ascending=False)\n",
    "comm_sorted_out.head(10) "
   ]
  },
  {
   "cell_type": "markdown",
   "id": "71434f88",
   "metadata": {},
   "source": [
    "On observe des valeurs extrêmes pour la population. L'étude des populations montre que les valeurs extrêmes représentent la population Parisienne (2,1 million en 2023) et la population Marseillaise (873000 habitants en 2023) et la population Lyonnaise (522000 habiutants).\n",
    "Ces valeurs ne sont donc pas des valeurs aberrantes mais constituent bien des valeurs extrêmes."
   ]
  },
  {
   "cell_type": "markdown",
   "id": "a5021d80",
   "metadata": {},
   "source": [
    "Variable tauxpourmille"
   ]
  },
  {
   "cell_type": "code",
   "execution_count": null,
   "id": "7a8ff94d",
   "metadata": {},
   "outputs": [],
   "source": [
    "#On trace le diagramme en moustache qui affiche la répartition\n",
    "sns.boxplot(x = 'tauxpourmille', data = commune)\n",
    "#On observe qu'il y a de nombreux outliers. Afin de procéder au traitement le plus adapté, il va falloir étudier si ce sont des valeurs extrêmes ou des valeurs aberrantes. \n",
    "\n",
    "#Pour cela, on trie le DataFrame par nombre de faits décroissants \n",
    "comm_sorted = commune.sort_values(by = 'tauxpourmille', ascending = False)\n",
    "comm_sorted.head(20) "
   ]
  },
  {
   "cell_type": "markdown",
   "id": "dc6c456a",
   "metadata": {},
   "source": [
    "On remarque des valeurs extrêmes. \n",
    "Les plus grandes valeurs sont situées dans des lieux dans lesquels :\n",
    "- Il y a énormément de touristes (non habitants)\n",
    "- Le nombre d'habitants est faible \n",
    "\n",
    "Etant donné que le taux pour mille est le nombre de faits divisé par la population le tout multiplié par 1000, il est tout à fait normal que la variance du taux pour mille soit aussi grande."
   ]
  },
  {
   "cell_type": "markdown",
   "id": "7551028c",
   "metadata": {},
   "source": [
    "#### b) Variables qualitatives"
   ]
  },
  {
   "cell_type": "code",
   "execution_count": null,
   "id": "b69ff79d",
   "metadata": {},
   "outputs": [],
   "source": [
    "#Observation du type de chaque variable\n",
    "commune.dtypes\n",
    "#Détermination des variables catégorielles et stockage dans un df\n",
    "cat_commune=commune.select_dtypes(include='O')\n",
    "#Affichage du dénombrement des différentes modalités sur les variables catégorielles à l'aide de la méthode value_counts\n",
    "print(cat_commune[\"ville\"].value_counts())\n",
    "print(\"------------------------------\")\n",
    "print(cat_commune[\"classe\"].value_counts()) #Inutile car dans tous les cas pour chaque ville chaque classe est renseignée\n",
    "print(\"------------------------------\")\n",
    "print(cat_commune[\"cible\"].value_counts())"
   ]
  },
  {
   "cell_type": "code",
   "execution_count": null,
   "id": "f3f4230d",
   "metadata": {},
   "outputs": [],
   "source": [
    "#Détermination et étude de la fréquence de chaque modalité \n",
    "print(cat_commune[\"ville\"].value_counts(normalize = True))\n",
    "print(\"------------------------------\")\n",
    "print(cat_commune[\"cible\"].value_counts(normalize = True))"
   ]
  },
  {
   "cell_type": "markdown",
   "id": "e81f09e5",
   "metadata": {},
   "source": [
    "#### c) Analyse des liaisons\n",
    "Pour examiner des liaisons entre des variables d'un dataset il faut distinguer trois niveaux d'analyse :\n",
    "- Liaisons entre les variables quantitatives,\n",
    "- Liaisons entre les variables qualitatives,\n",
    "- Liaisons entre les variables qualitatives et quantitatives.\n",
    "\n",
    "Pour chaque niveau d'analyse, on peut se poser cette question : y a-t-il dépendance ou indépendance entre les variables ?\n",
    "L'objectif de cette partie est d'arriver à déterminer s'il y a une dépendance entre des variables d'un jeu de données.\n",
    "\n",
    "Les couples de variables étudiés seront les suivants : \n",
    "- faits (variable quantitative) / pop (variable quantitative) : Test PEARSON ou SPEARMAN\n",
    "- faits (variable quantitative) / annee (variable qualitative)  : Test ANOVA"
   ]
  },
  {
   "cell_type": "markdown",
   "id": "6e2464f2",
   "metadata": {},
   "source": [
    "Couple faits / pop : Test de corrélation de Pearson\n",
    "\n",
    "On se demande ici si il y a une influence entre la taille de la population et le nombre de faits commis au sein d'une commune "
   ]
  },
  {
   "cell_type": "code",
   "execution_count": null,
   "id": "28981905",
   "metadata": {},
   "outputs": [],
   "source": [
    "## Mise en place du df \n",
    "com_fait_pop=commune.loc[commune['annee']== 2016].groupby(['ville','pop'])['faits'].sum().sort_values(ascending=False).reset_index()\n",
    "\n",
    "## Hypothèses\n",
    "# H0 : La taille de la population n'a pas d'influence sur le nombre de faits commis\n",
    "# H1 : La taille de la population a une influence sur le nombre de faits commis : les variables sont corrélées\n",
    "\n",
    "## Test statistique \n",
    "pearsonr(x = com_fait_pop['pop'], y = com_fait_pop['faits']) \n",
    "\n",
    "print(\"p-value: \", pearsonr(x = com_fait_pop['pop'], y = com_fait_pop['faits'])[1])\n",
    "print(\"coefficient: \", pearsonr(x = com_fait_pop['pop'], y = com_fait_pop['faits'])[0])\n",
    "\n",
    "#La p-value valant 0, on rejette H0 et on conclut H1. \n",
    "\n",
    "#sns.lmplot(x= 'pop',y = 'faits', data=com_fait_pop);\n",
    "sns.lmplot(x=\"pop\",y=\"faits\",data=com_fait_pop, height=5, order=2, line_kws = {'color': 'red'});"
   ]
  },
  {
   "cell_type": "markdown",
   "id": "6bc2242b",
   "metadata": {},
   "source": [
    "D'après le test statistique de Pearson, il y a une corrélation linéaire entre la taille de la population et le nombre de faits commis au sein d'une commune."
   ]
  },
  {
   "cell_type": "markdown",
   "id": "81e73c99",
   "metadata": {},
   "source": [
    "Couple faits / année : Test de corrélation ANOVA\n",
    "\n",
    "On se demande ici si il y a une influence entre l'évolution dans le temps (année) et le nombre de faits  "
   ]
  },
  {
   "cell_type": "code",
   "execution_count": null,
   "id": "e7be9c3e",
   "metadata": {},
   "outputs": [],
   "source": [
    "## Mise en place du df \n",
    "commune_annee_fait=commune.groupby(['annee'])['faits'].sum().sort_values(ascending=False).reset_index().sort_values(by='annee')\n",
    "\n",
    "## Hypothèses\n",
    "# H0 : Il n'y a pas de relation linéaire entre l'année et le nombre de faits commis\n",
    "# H1 : Il y a une relation linéaire entre l'année et le nombre de faits commis\n",
    "\n",
    "## Test statistique \n",
    "result = statsmodels.formula.api.ols('annee ~ faits', data=commune_annee_fait).fit()\n",
    "statsmodels.api.stats.anova_lm(result)\n",
    "\n",
    "#La p-value est supérieure à 5%, on rejette H1 et on conclu H0"
   ]
  },
  {
   "cell_type": "markdown",
   "id": "2922ca5f",
   "metadata": {},
   "source": [
    "Tous faits confondus, il n'existe pas de relation linéaire entre l'année et le nombre de faits commis. \n",
    "\n",
    "Cependant, il serait intéressant d'étudier si une relation linéaire existe entre 1 type de fait précis (coups et blessures volontaires intrafamiliaux) et l'année. "
   ]
  },
  {
   "cell_type": "code",
   "execution_count": null,
   "id": "addf1511",
   "metadata": {},
   "outputs": [],
   "source": [
    "## Mise en place du df \n",
    "commune_annee_fait=commune.loc[commune['classe']=='Coups et blessures volontaires intrafamiliaux'].groupby(['annee'])['faits'].sum().sort_values(ascending=False).reset_index().sort_values(by='annee')\n",
    "\n",
    "## Hypothèses\n",
    "# H0 : Il n'y a pas de relation linéaire entre l'année et le nombre de coups et blessures volontaires intrafamiliaux\n",
    "# H1 : Il y a une relation linéaire entre l'année et le nombre de faits coups et blessures volontaires intrafamiliaux\n",
    "\n",
    "## Test statistique \n",
    "result = statsmodels.formula.api.ols('annee ~ faits', data=commune_annee_fait).fit()\n",
    "statsmodels.api.stats.anova_lm(result)\n",
    "\n",
    "#La p-value est inférieure à 5%, on rejette H0 et on conclu H1"
   ]
  },
  {
   "cell_type": "markdown",
   "id": "b2ec8917",
   "metadata": {},
   "source": [
    "Ce test statistique montre un constat : \n",
    "Après le confinement, le nombre de coups et blessures volontaires intrafamiliaux a bondi et ne cesse de croître."
   ]
  },
  {
   "cell_type": "code",
   "execution_count": null,
   "id": "6c0a3f5e",
   "metadata": {},
   "outputs": [],
   "source": [
    "sns.lineplot(x=commune_annee_fait['annee'], y=commune_annee_fait['faits'], marker = 'o', label = 'Faits');"
   ]
  },
  {
   "cell_type": "markdown",
   "id": "a8458f52",
   "metadata": {},
   "source": [
    "### 2) DataFrame dep\n",
    "#### a) Variables quantitatives"
   ]
  },
  {
   "cell_type": "code",
   "execution_count": null,
   "id": "c48f0f0c",
   "metadata": {},
   "outputs": [],
   "source": [
    "dep.describe()"
   ]
  },
  {
   "cell_type": "markdown",
   "id": "661c9bfe",
   "metadata": {},
   "source": [
    "Variable faits"
   ]
  },
  {
   "cell_type": "code",
   "execution_count": null,
   "id": "c4d03a2c",
   "metadata": {},
   "outputs": [],
   "source": [
    "#On trace le diagramme en moustache qui affiche la répartition des faits\n",
    "sns.boxplot(x = 'faits', data = dep)\n",
    "#On observe qu'il y a 8 outliers. Afin de procéder au traitement le plus adapté, il va falloir étudier si ce sont des valeurs extrêmes ou des valeurs aberrantes. \n",
    "\n",
    "#Pour cela, on trie le DataFrame par nombre de faits décroissants \n",
    "dep_sorted = dep.sort_values(by = 'faits', ascending = False)\n",
    "dep_sorted.head(10) "
   ]
  },
  {
   "cell_type": "markdown",
   "id": "a10f67b9",
   "metadata": {},
   "source": [
    "On observe que le nombre de faits varie énormément et est très important en région Parisienne. \n",
    "Ces valeurs représentent des valeurs extrêmes et non des valeurs aberrantes. Elles sont donc gardées dans le dataset."
   ]
  },
  {
   "cell_type": "markdown",
   "id": "e50f5118",
   "metadata": {},
   "source": [
    "Variable pop (population)"
   ]
  },
  {
   "cell_type": "code",
   "execution_count": null,
   "id": "30610de4",
   "metadata": {},
   "outputs": [],
   "source": [
    " #On trace le diagramme en moustache qui affiche la répartition\n",
    "sns.boxplot(x = 'pop', data = commune)\n",
    "\n",
    "#Pour cela, on trie le DataFrame par nombre de faits décroissants \n",
    "dep_sorted = dep.sort_values(by = 'pop', ascending = False)\n",
    "dep_sorted.head(10) \n"
   ]
  },
  {
   "cell_type": "markdown",
   "id": "c2524cf7",
   "metadata": {},
   "source": [
    "On observe la présence d'outliers qui représentent des valeurs extrêmes et non des valeurs aberrantes. \n",
    "En effet, les outliers caractérisent le département du Nord (Ce département est le plus peublé de France avec 2,6 millions d'habitants)."
   ]
  },
  {
   "cell_type": "markdown",
   "id": "d1a408b5",
   "metadata": {},
   "source": [
    "Etude des densités de population"
   ]
  },
  {
   "cell_type": "code",
   "execution_count": null,
   "id": "beb08f4b",
   "metadata": {},
   "outputs": [],
   "source": [
    "dep_fait_pop=dep.groupby(['departement','pop'])['faits'].sum().sort_values(ascending=False).reset_index()\n",
    "\n",
    "sns.kdeplot(dep_fait_pop[\"pop\"])\n",
    "plt.title('Distribution de la population dans les départements français')\n",
    "plt.show();"
   ]
  },
  {
   "cell_type": "markdown",
   "id": "60b27a5a",
   "metadata": {},
   "source": [
    "#### b) Variables qualitatives"
   ]
  },
  {
   "cell_type": "code",
   "execution_count": null,
   "id": "91214c55",
   "metadata": {},
   "outputs": [],
   "source": [
    "#Observation du type de chaque variable\n",
    "dep.dtypes\n",
    "#Détermination des variables catégorielles et stockage dans un df\n",
    "cat_dep=dep.select_dtypes(include='O')\n",
    "#Affichage du dénombrement des différentes modalités sur les variables catégorielles à l'aide de la méthode value_counts\n",
    "print(cat_dep[\"departement\"].value_counts())\n",
    "print(\"------------------------------\")\n",
    "print(cat_dep[\"classe\"].value_counts()) #Inutile car dans tous les cas pour chaque ville chaque classe est renseignée\n",
    "print(\"------------------------------\")\n",
    "print(cat_dep[\"cible\"].value_counts())"
   ]
  },
  {
   "cell_type": "code",
   "execution_count": null,
   "id": "cc69fe35",
   "metadata": {},
   "outputs": [],
   "source": [
    "#Détermination et étude de la fréquence de chaque modalité\n",
    "print(cat_dep[\"departement\"].value_counts(normalize = True))\n",
    "print(\"------------------------------\")\n",
    "print(cat_dep[\"cible\"].value_counts(normalize = True))"
   ]
  },
  {
   "cell_type": "markdown",
   "id": "086164af",
   "metadata": {},
   "source": [
    "#### c) Analyse des liaisons"
   ]
  },
  {
   "cell_type": "markdown",
   "id": "abc5224d",
   "metadata": {},
   "source": [
    "Une autre manière de vérifier les relations linéaires est l'utilisation de la matrice de corrélation et le pairplot seaborn. "
   ]
  },
  {
   "cell_type": "code",
   "execution_count": null,
   "id": "255419a0",
   "metadata": {},
   "outputs": [],
   "source": [
    "dep_group=dep.groupby(['annee','classe'])['faits'].sum().unstack()\n",
    "dep_group.head()"
   ]
  },
  {
   "cell_type": "code",
   "execution_count": null,
   "id": "c4130981",
   "metadata": {},
   "outputs": [],
   "source": [
    "sns.pairplot(data=dep_group, diag_kind='kde')"
   ]
  },
  {
   "cell_type": "markdown",
   "id": "d92eb30b",
   "metadata": {},
   "source": [
    "### 3) DataFrame reg\n",
    "#### a) Variables quantitatives"
   ]
  },
  {
   "cell_type": "code",
   "execution_count": null,
   "id": "699af42c",
   "metadata": {},
   "outputs": [],
   "source": [
    "reg.describe()"
   ]
  },
  {
   "cell_type": "markdown",
   "id": "14263e15",
   "metadata": {},
   "source": [
    "Variable faits"
   ]
  },
  {
   "cell_type": "code",
   "execution_count": null,
   "id": "9edea199",
   "metadata": {},
   "outputs": [],
   "source": [
    "#Tracé de la distribution de la variable faits\n",
    "sns.boxplot(x = 'faits', data = reg)\n",
    "#Sans surprise, il y a également des valeurs extrêmes en région parisienne. \n",
    "reg_sorted = reg.sort_values(by = 'faits', ascending = False)\n",
    "reg_sorted.head(10) "
   ]
  },
  {
   "cell_type": "markdown",
   "id": "e23f550b",
   "metadata": {},
   "source": [
    "Variable pop"
   ]
  },
  {
   "cell_type": "code",
   "execution_count": null,
   "id": "1f73d48b",
   "metadata": {},
   "outputs": [],
   "source": [
    " #On trace le diagramme en moustache qui affiche la répartition\n",
    "sns.boxplot(x = 'pop', data = reg)\n",
    "\n",
    "#Pour cela, on trie le DataFrame par nombre de faits décroissants \n",
    "reg_sorted = reg.sort_values(by = 'pop', ascending = False)\n",
    "reg_sorted.head(10) "
   ]
  },
  {
   "cell_type": "markdown",
   "id": "52d9ef85",
   "metadata": {},
   "source": [
    "Etude des densités de population"
   ]
  },
  {
   "cell_type": "code",
   "execution_count": null,
   "id": "6296ff81",
   "metadata": {},
   "outputs": [],
   "source": [
    "reg_fait_pop=reg.groupby(['region','pop'])['faits'].sum().sort_values(ascending=False).reset_index()\n",
    "\n",
    "sns.kdeplot(reg_fait_pop[\"pop\"])\n",
    "plt.title('Distribution de la population dans les régions français')\n",
    "plt.show();"
   ]
  },
  {
   "cell_type": "markdown",
   "id": "ba82aa07",
   "metadata": {},
   "source": [
    "On observe une distribution avec une variance nettement moins grande que dans les DataFrames précédents. En effet, la région Ile de france est la plus peuplée avec environ 1020 habitants / km2. "
   ]
  },
  {
   "cell_type": "markdown",
   "id": "5c0bc498",
   "metadata": {},
   "source": [
    "#### b) Variables qualitatives"
   ]
  },
  {
   "cell_type": "code",
   "execution_count": null,
   "id": "df98bd05",
   "metadata": {},
   "outputs": [],
   "source": [
    "#Observation du type de chaque variable\n",
    "reg.dtypes\n",
    "#Détermination des variables catégorielles et stockage dans un df\n",
    "cat_reg=reg.select_dtypes(include='O')\n",
    "#Affichage du dénombrement des différentes modalités sur les variables catégorielles à l'aide de la méthode value_counts\n",
    "print(cat_reg[\"region\"].value_counts())\n",
    "print(\"------------------------------\")\n",
    "print(cat_reg[\"classe\"].value_counts()) #Inutile car dans tous les cas pour chaque ville chaque classe est renseignée\n",
    "print(\"------------------------------\")\n",
    "print(cat_reg[\"cible\"].value_counts())"
   ]
  },
  {
   "cell_type": "code",
   "execution_count": null,
   "id": "3eaa5145",
   "metadata": {},
   "outputs": [],
   "source": [
    "#Détermination et étude de la fréquence de chaque modalité\n",
    "print(cat_reg[\"region\"].value_counts(normalize = True))\n",
    "print(\"------------------------------\")\n",
    "print(cat_reg[\"cible\"].value_counts(normalize = True))"
   ]
  },
  {
   "cell_type": "markdown",
   "id": "2277c57b",
   "metadata": {},
   "source": [
    "# III) Etudes statistiques  \n",
    "\n",
    "Le plus intéressant dans un premier temps et d'étudier quel est le type de fait le plus commis au niveau des communes, des départements et des régions. \n",
    "Normalement, les distributions devraient être identiques (si tous les rapportages ont été correctement réalisés)\n",
    "\n",
    "## A) Crimes et délits commis au niveau communal"
   ]
  },
  {
   "cell_type": "code",
   "execution_count": null,
   "id": "64a70a4e",
   "metadata": {},
   "outputs": [],
   "source": [
    "#Filtrage en fonction des années, regroupage par classes et somme les faits de chacune des occurences de cette classe\n",
    "#Trier ensuite dans l'ordre décroissant pour un meilleur affichage de mon barplot. \n",
    "commune2016=commune.loc[commune['annee']== 2016].groupby('classe')['faits'].sum().sort_values(ascending=False)\n",
    "\n",
    "fig, ax = plt.subplots(figsize = (6,4)) \n",
    "sns.barplot(y=commune2016.index, x=commune2016, ax=ax)\n",
    "plt.title('Distribution des crimes et délits dans les communes françaises en 2016')\n",
    "plt.show()"
   ]
  },
  {
   "cell_type": "code",
   "execution_count": null,
   "id": "e7c73a30",
   "metadata": {},
   "outputs": [],
   "source": [
    "commune_part=commune.loc[commune['annee']==2016].groupby(['classe','annee'])['faits'].sum().sort_values(ascending=False).reset_index()\n",
    "\n",
    "plt.figure(figsize=(7, 7))\n",
    "\n",
    "# Tracer le graphique en camembert sans labels\n",
    "plt.pie(x=commune_part.faits, \n",
    "        labels=None,  # Pas de labels sur le graphique\n",
    "        autopct=lambda x: str(round(x, 2)) + '%', \n",
    "        pctdistance=1.15, \n",
    "        wedgeprops={'linewidth': 1, 'edgecolor': 'black'})\n",
    "\n",
    "# Ajouter la légende avec les labels\n",
    "plt.legend(labels=['Vols sans violence contre des personnes',\n",
    "                   'Destructions et dégradations volontaires',\n",
    "                   'Coups et blessures volontaires', 'Vols dans les véhicules',\n",
    "                   'Usage de stupéfiants', 'Cambriolages de logement',\n",
    "                   'Coups et blessures volontaires intrafamiliaux',\n",
    "                   'Vols de véhicules', 'Autres coups et blessures volontaires',\n",
    "                   'Vols violents sans arme', 'Violences sexuelles',\n",
    "                   \"Vols d'accessoires sur véhicules\", 'Trafic de stupéfiants',\n",
    "                   'Vols avec armes'],\n",
    "           bbox_to_anchor=(1.05, 0.5), loc='center left')\n",
    "plt.title('Part des crimes et délits dans les communes françaises en 2016')\n",
    "plt.show()"
   ]
  },
  {
   "cell_type": "markdown",
   "id": "588c33dd",
   "metadata": {},
   "source": [
    "On observe que le délit le plus commis est le vol sans violence contre des personnes. \n",
    "\n",
    "On cherche maintenant à faire une étude \"grosse maille\" de l'évolution au fil du temps des crimes et délits, afin d'en dégager des tendances. "
   ]
  },
  {
   "cell_type": "code",
   "execution_count": null,
   "id": "58b0abd8",
   "metadata": {},
   "outputs": [],
   "source": [
    "#Maintenant on va chercher a afficher sur le même graphique toutes les années, grâce à l'argument 'hue'\n",
    "communeTest=commune.groupby(['classe','annee'])['faits'].sum().sort_values(ascending=False).reset_index().sort_values(by='annee')\n",
    "#A noter que .reset_index().sort_values(by='annee') me permet de repasser sous forme d'un DataFrame. Ainsi, je peux librement utiliser l'argument 'hue' pour discrétiser en fonction des années.\n",
    "\n",
    "sns.set_theme(style = \"ticks\", context = \"talk\", palette = \"bright\")\n",
    "fig, ax = plt.subplots(figsize = (10,10)) \n",
    "sns.barplot(y=communeTest.classe, x=communeTest.faits, ax=ax, hue=communeTest.annee)\n",
    "plt.title('Distribution et évolution au cours du temps des crimes et délits dans les communes françaises en fonction des années')\n",
    "plt.show()"
   ]
  },
  {
   "cell_type": "code",
   "execution_count": null,
   "id": "f040954c",
   "metadata": {},
   "outputs": [],
   "source": [
    "commune_group=commune.groupby(['annee','classe'])['faits'].sum().unstack()\n",
    "commune_group.plot(figsize = (20, 8), style = 'o-')\n",
    "plt.title('Evolution au cours du temps des crimes et délits dans les communes françaises en fonction des années')\n",
    "plt.legend(bbox_to_anchor=(1.05, 1), loc='upper left')\n",
    "plt.tight_layout()\n",
    "plt.show()"
   ]
  },
  {
   "cell_type": "markdown",
   "id": "7dde542e",
   "metadata": {},
   "source": [
    "On observe qu'il y a une augmentation au fil des années des coups et blessures volontaires intrafamiliaux. Cette augmentation a été beaucoup plus importante pendant et après les différents confinements. \n",
    "\n",
    "De même, on observe une baisse des crimes et délits lors des périodes de confinement (2019 et 2020) avant d'augmenter de nouveau. \n",
    "\n",
    "On observe de plus : \n",
    "- Une augmentation du trafic de stupéfiants \n",
    "- Une nette augmentation de l'usage de stupéfiants\n",
    "- Une augmentation des coups et blessures volontaires\n",
    "- Une très faible diminution des vols avec arme \n",
    "- Une diminution des vols violents avec arme \n",
    "- Une triste augmentation des violences sexuelles "
   ]
  },
  {
   "cell_type": "markdown",
   "id": "e951344d",
   "metadata": {},
   "source": [
    "On se demande maintenant : \n",
    "- Quel est le top 5 des villes dans lesquelles sont commis en majorité les faits ?\n",
    "- Ce classement est-il identique selon les années ? "
   ]
  },
  {
   "cell_type": "code",
   "execution_count": null,
   "id": "867f06cc",
   "metadata": {},
   "outputs": [],
   "source": [
    "#Année 2016\n",
    "commune.head(20)\n",
    "#On va sommer le nombre de faits pour chaque ville. \n",
    "commune2016Top=commune.loc[commune['annee']==2016].groupby(['ville'])['faits'].sum().sort_values(ascending = False).head(5)\n",
    "\n",
    "sns.set_theme(style='whitegrid', palette='pastel')\n",
    "fig, ax = plt.subplots(figsize = (10,4)) \n",
    "sns.barplot(x=commune2016Top.index, y=commune2016Top, ax=ax)\n",
    "plt.title('Top 5 des villes dans lesquelles le plus de crimes et délits ont été commis')\n",
    "plt.show()"
   ]
  },
  {
   "cell_type": "code",
   "execution_count": null,
   "id": "4e75d096",
   "metadata": {},
   "outputs": [],
   "source": [
    "#Représentations du top 5 dans toutes les années disponibles, grâce à Plotly Express \n",
    "\n",
    "communeTop=commune.groupby(['annee', 'ville'])['faits'].sum().reset_index().sort_values(['annee', 'faits'], ascending=[True, False]).groupby('annee').head(5).reset_index(drop=True)\n",
    "\n",
    "fig = px.bar(communeTop,\n",
    "             x = 'ville',\n",
    "             y = 'faits',\n",
    "             animation_frame='annee',\n",
    "             color='ville')\n",
    "fig.update_layout(title_text = \"Top 5 des villes dans lesquelles le plus de crimes et délits ont été commis au cours du temps\",\n",
    "                  width=800,\n",
    "                  height=600)\n",
    "fig.show('notebook')\n"
   ]
  },
  {
   "cell_type": "markdown",
   "id": "1341b798",
   "metadata": {},
   "source": [
    "On observe qu'entre 2016 et 2020 le classement est inchangé. Néanmoins, en 2021 et en 2023 Lille se fait devancer par Bordeaux. En 2024 le classement revient à ses valeurs initiales.\n",
    "On observe de plus  en 2020 une baisse du nombre total de faits dans chacune des villes. "
   ]
  },
  {
   "cell_type": "markdown",
   "id": "03b31ee4",
   "metadata": {},
   "source": [
    "Qu'en est-il de ce classement si on étudie par rapport au nombre d'habitants ?   \n",
    "Pour rappel, le taux pour mille est le nombre de faits divisé par la population le tout multiplié par 1000. "
   ]
  },
  {
   "cell_type": "code",
   "execution_count": null,
   "id": "3b3271ec",
   "metadata": {},
   "outputs": [],
   "source": [
    "#On va donc trier les villes qui ont le plus gros taux pour mille \n",
    "\n",
    "communeTop2=commune.groupby(['annee', 'ville'])['tauxpourmille'].sum().reset_index().sort_values(['annee', 'tauxpourmille'], ascending=[True, False]).groupby('annee').head(5).reset_index(drop=True)\n",
    "\n",
    "#On affiche le graphique\n",
    "\n",
    "fig = px.bar(communeTop2,\n",
    "             x = 'ville',\n",
    "             y = 'tauxpourmille',\n",
    "             animation_frame='annee',\n",
    "             color='ville')\n",
    "fig.update_layout(title_text = \"Top 5 des villes dans lesquelles le plus de crimes et délits ont été commis au cours du temps\",\n",
    "                  width=1000,\n",
    "                  height=600)\n",
    "fig.show('notebook')"
   ]
  },
  {
   "cell_type": "markdown",
   "id": "df06f5d0",
   "metadata": {},
   "source": [
    "Le graphique n'est pas aussi fluide que prévu. Néanmoins, il convient de se fier à la légende pour voir évoluer les différentes villes"
   ]
  },
  {
   "cell_type": "markdown",
   "id": "934ab00c",
   "metadata": {},
   "source": [
    "Il est maintenant proposé d'étudier les différences entre la sélection du nombre de faits ou le taux pour mille habitants (donc pondéré par rapport au nombre de faits)"
   ]
  },
  {
   "cell_type": "code",
   "execution_count": null,
   "id": "2c69da81",
   "metadata": {},
   "outputs": [],
   "source": [
    "# Création de la figure\n",
    "fig = go.Figure()\n",
    "\n",
    "# Ajout du premier tracé\n",
    "fig.add_trace(go.Bar(\n",
    "    x=communeTop['ville'].head(5),\n",
    "    y=communeTop['faits'].head(5),\n",
    "    name='Faits',\n",
    "    marker_color='blue', \n",
    "))\n",
    "\n",
    "# Ajout du second tracé\n",
    "fig.add_trace(go.Bar(\n",
    "    x=communeTop2['ville'].head(5),\n",
    "    y=communeTop2['tauxpourmille'].head(5),\n",
    "    name='Taux pour mille',\n",
    "    marker_color='orange'\n",
    "))\n",
    "\n",
    "# Réglage de la taille de la figure\n",
    "fig.update_layout(\n",
    "    autosize=False,\n",
    "    width=800,\n",
    "    height=900,  \n",
    "    title=\"Top 5 par ville\",\n",
    "    xaxis_title='Ville',\n",
    "    yaxis_title='Valeur'\n",
    ")\n",
    "\n",
    "# Ajout des boutons pour l'interactivité\n",
    "fig.update_layout(\n",
    "    updatemenus=[dict(\n",
    "        type=\"buttons\",\n",
    "        direction=\"right\",\n",
    "        active=0,\n",
    "        x=0.57,\n",
    "        y=1.2,\n",
    "        buttons=list([\n",
    "            dict(\n",
    "                label=\"Faits\",\n",
    "                method=\"update\",\n",
    "                args=[{\"visible\": [True, False]},\n",
    "                      {\"title\": \"Top 5 en fonction du nombre de faits (cumulés sur les années)\"}]\n",
    "            ),\n",
    "            dict(\n",
    "                label=\"Taux pour mille\",\n",
    "                method=\"update\",\n",
    "                args=[{\"visible\": [False, True]},\n",
    "                      {\"title\": \"Top 5 en fonction du taux pour mille (cumulés sur les années)\"}]\n",
    "            )\n",
    "        ])\n",
    "    )]\n",
    ")\n",
    "\n",
    "# Ajout des annotations\n",
    "high_annotations = [dict(x=-0.05,\n",
    "                         y=communeTop['faits'].mean(),\n",
    "                         xanchor=\"right\",\n",
    "                         yanchor=\"bottom\",\n",
    "                         xref=\"x domain\",\n",
    "                         yref=\"y\",\n",
    "                         text=\"Moyenne des faits: %.2f\" % communeTop['faits'].mean(),\n",
    "                         showarrow=False)]\n",
    "\n",
    "low_annotations = [dict(x=-0.05,\n",
    "                        y=communeTop2['tauxpourmille'].mean(),\n",
    "                        xanchor=\"right\",\n",
    "                        yanchor=\"bottom\",\n",
    "                        xref=\"x domain\",\n",
    "                        yref=\"y\",\n",
    "                        text=\"Moyenne des taux: %.2f\" % communeTop2['tauxpourmille'].mean(),\n",
    "                        showarrow=False)]\n",
    "\n",
    "# Ajout des légendes et du titre\n",
    "fig.update_layout(\n",
    "    title=\"Comparaison des villes par nombre de faits et taux pour mille\",\n",
    "    xaxis_title='Villes',\n",
    "    yaxis_title='Valeur'\n",
    ")\n",
    "\n",
    "# Ajout des annotations\n",
    "fig.add_annotation(\n",
    "    text=\"Sélectionnez la source des données:\",\n",
    "    showarrow=False,\n",
    "    x=0,\n",
    "    y=1.1,\n",
    "    yref=\"paper\",\n",
    "    xref=\"paper\"\n",
    ")\n",
    "\n",
    "fig.show(\"notebook\")"
   ]
  },
  {
   "cell_type": "markdown",
   "id": "d27889d0",
   "metadata": {},
   "source": [
    "Conclusion : On observe que lorsqu'on analyse sur le nombre de faits ou le taux pour mille les résultats changent. \n",
    "Le taux pour mille permet de pondérer par rapport au nombre d'habitants de la ville. Ainsi, l'étude statistique est moins sensible à la grandeur de l'échantillon.\n",
    "\n",
    "Comme dans ma précédente hypothèse, les villes qui accueillent des touristes (exemple parfait avec Roissy et son aéroport international) remontent dans le classement. "
   ]
  },
  {
   "cell_type": "markdown",
   "id": "c5699abb",
   "metadata": {},
   "source": [
    "## B) Crimes et délits commis au niveau départemental \n",
    " "
   ]
  },
  {
   "cell_type": "code",
   "execution_count": null,
   "id": "ffee1b30",
   "metadata": {},
   "outputs": [],
   "source": [
    "#Filtrage en fonction des années, regroupage par classes et somme les faits de chacune des occurences de cette classe\n",
    "#Trier ensuite dans l'ordre décroissant pour un meilleur affichage de mon barplot. \n",
    "dep2016=dep.loc[dep['annee']== 2016].groupby('classe')['faits'].sum().sort_values(ascending=False)\n",
    "\n",
    "fig, ax = plt.subplots(figsize = (6,4)) \n",
    "sns.barplot(y=dep2016.index, x=dep2016, ax=ax)\n",
    "plt.title('Distribution des crimes et délits dans les départements français en 2016')\n",
    "plt.show()"
   ]
  },
  {
   "cell_type": "markdown",
   "id": "4124a26a",
   "metadata": {},
   "source": [
    "On observe que le délit le plus commis est le vols sans violence contre des personnes. \n",
    "\n",
    "On cherche maintenant à faire une étude \"grosse maille\" de l'évolution au fil du temps des crimes et délits, afin d'en dégager des tendances. "
   ]
  },
  {
   "cell_type": "code",
   "execution_count": null,
   "id": "c006658e",
   "metadata": {},
   "outputs": [],
   "source": [
    "#Maintenant on va chercher a afficher sur le même graphique TOUTES les années, grâce à l'argument 'hue'\n",
    "depTest=dep.groupby(['classe','annee'])['faits'].sum().sort_values(ascending=False).reset_index().sort_values(by='annee')\n",
    "#A noter que .reset_index().sort_values(by='annee') me permet de repasser sous forme d'un DataFrame. Ainsi, je peux librement utiliser l'argument 'hue' pour discrétiser en fonction des années.\n",
    "\n",
    "sns.set_theme(style = \"ticks\", context = \"talk\", palette = \"bright\")\n",
    "fig, ax = plt.subplots(figsize = (10,10)) \n",
    "sns.barplot(y=depTest.classe, x=depTest.faits, ax=ax, hue=depTest.annee)\n",
    "plt.title('Distribution et évolution au cours du temps des crimes et délits dans les départements français en fonction des années')\n",
    "plt.show()"
   ]
  },
  {
   "cell_type": "code",
   "execution_count": null,
   "id": "07663fdd",
   "metadata": {},
   "outputs": [],
   "source": [
    "dep_group=dep.groupby(['annee','classe'])['faits'].sum().unstack()\n",
    "dep_group.plot(figsize = (20, 8), style = 'o-')\n",
    "plt.title('Evolution au cours du temps des crimes et délits dans les départements français en fonction des années')\n",
    "plt.legend(bbox_to_anchor=(1.05, 1), loc='upper left')\n",
    "plt.tight_layout()\n",
    "plt.show()"
   ]
  },
  {
   "cell_type": "markdown",
   "id": "a1fe3787",
   "metadata": {},
   "source": [
    "Les conclusions sont identiques à l'étude des données au niveau communal. \n",
    "\n",
    "On observe qu'il y a une augmentation au fil des années des coups et blessures volontaires intrafamiliaux. Cette augmentation a été beaucoup plus importante pendant et après les différents confinements. \n",
    "\n",
    "De même, on observe une baisse des crimes et délits lors des périodes de confinement (2019 et 2020) avant d'augmenter de nouveau. \n",
    "\n",
    "On observe de plus : \n",
    "- Une augmentation du trafic de stupéfiants \n",
    "- Une nette augmentation de l'usage de stupéfiants\n",
    "- Une augmentation des coups et blessures volontaires\n",
    "- Une très faible diminution des vols avec arme \n",
    "- Une diminution des vols violents avec arme\n",
    "- Une triste augmentation des violences sexuelles "
   ]
  },
  {
   "cell_type": "markdown",
   "id": "28b16d08",
   "metadata": {},
   "source": [
    "On se demande maintenant : \n",
    "- Quel est le top 5 des villes dans lesquelles sont commis en majorité les faits ?\n",
    "- Ce classement est-il identique selon les années ? "
   ]
  },
  {
   "cell_type": "code",
   "execution_count": null,
   "id": "b2b5632b",
   "metadata": {},
   "outputs": [],
   "source": [
    "#Représentations du top 5 dans toutes les années disponibles, grâce à Plotly Express \n",
    "\n",
    "depTop=dep.groupby(['annee', 'departement'])['faits'].sum().reset_index().sort_values(['annee', 'faits'], ascending=[True, False]).groupby('annee').head(5).reset_index(drop=True)\n",
    "\n",
    "fig = px.bar(depTop,\n",
    "             x = 'departement',\n",
    "             y = 'faits',\n",
    "             animation_frame='annee',\n",
    "             color='departement')\n",
    "fig.update_layout(title_text = \"Top 5 des départements dans lesquels le plus de crimes et délits ont été commis au cours du temps\",\n",
    "                  width=1000,\n",
    "                  height=600)\n",
    "fig.show('notebook')\n"
   ]
  },
  {
   "cell_type": "markdown",
   "id": "c46d6ecf",
   "metadata": {},
   "source": [
    "On observe que le classement reste identique entre 2016 et 2020. \n",
    "Les positions du Nord et des Bouches du Rhone s'inversent à partir 2021 tout comme celles du Rhone et de Seine Saint Denis. "
   ]
  },
  {
   "cell_type": "markdown",
   "id": "6f955939",
   "metadata": {},
   "source": [
    "Qu'en est-il de ce classement si on étudie par rapport au nombre d'habitants ?   \n",
    "Pour rappel, le taux pour mille est le nombre de faits divisé par la population le tout multiplié par 1000. "
   ]
  },
  {
   "cell_type": "code",
   "execution_count": null,
   "id": "2f1d0765",
   "metadata": {},
   "outputs": [],
   "source": [
    "#On va donc trier les départements qui ont le plus gros taux pour mille \n",
    "\n",
    "depTop2=dep.groupby(['annee', 'departement'])['tauxpourmille'].sum().reset_index().sort_values(['annee', 'tauxpourmille'], ascending=[True, False]).groupby('annee').head(5).reset_index(drop=True)\n",
    "\n",
    "#On affiche le graphique\n",
    "\n",
    "fig = px.bar(depTop2,\n",
    "             x = 'departement',\n",
    "             y = 'tauxpourmille',\n",
    "             animation_frame='annee',\n",
    "             color='departement')\n",
    "fig.update_layout(title_text = \"Top 5 des départements dans lesquel le plus de crimes et délits ont été commis au cours du temps\",\n",
    "                  width=1000,\n",
    "                  height=600)\n",
    "fig.show('notebook')"
   ]
  },
  {
   "cell_type": "markdown",
   "id": "9b771432",
   "metadata": {},
   "source": [
    "Il est maintenant proposé d'étudier les différences entre la sélection du nombre de faits ou le taux pour mille habitants (donc pondéré par rapport au nombre de faits)"
   ]
  },
  {
   "cell_type": "code",
   "execution_count": null,
   "id": "d7010660",
   "metadata": {},
   "outputs": [],
   "source": [
    "# Création de la figure\n",
    "fig = go.Figure()\n",
    "\n",
    "# Ajout du premier tracé\n",
    "fig.add_trace(go.Bar(\n",
    "    x=depTop['departement'].head(5),\n",
    "    y=depTop['faits'].head(5),\n",
    "    name='Faits',\n",
    "    marker_color='blue', \n",
    "))\n",
    "\n",
    "# Ajout du second tracé\n",
    "fig.add_trace(go.Bar(\n",
    "    x=depTop2['departement'].head(5),\n",
    "    y=depTop2['tauxpourmille'].head(5),\n",
    "    name='Taux pour mille',\n",
    "    marker_color='orange'\n",
    "))\n",
    "\n",
    "# Réglage de la taille de la figure\n",
    "fig.update_layout(\n",
    "    autosize=False,\n",
    "    width=800,\n",
    "    height=900,  \n",
    "    title=\"Top 5 par département\",\n",
    "    xaxis_title='Département',\n",
    "    yaxis_title='Valeur'\n",
    ")\n",
    "\n",
    "# Ajout des boutons pour l'interactivité\n",
    "fig.update_layout(\n",
    "    updatemenus=[dict(\n",
    "        type=\"buttons\",\n",
    "        direction=\"right\",\n",
    "        active=0,\n",
    "        x=0.57,\n",
    "        y=1.2,\n",
    "        buttons=list([\n",
    "            dict(\n",
    "                label=\"Faits\",\n",
    "                method=\"update\",\n",
    "                args=[{\"visible\": [True, False]},\n",
    "                      {\"title\": \"Top 5 en fonction du nombre de faits (cumulés sur les années)\"}]\n",
    "            ),\n",
    "            dict(\n",
    "                label=\"Taux pour mille\",\n",
    "                method=\"update\",\n",
    "                args=[{\"visible\": [False, True]},\n",
    "                      {\"title\": \"Top 5 en fonction du taux pour mille (cumulés sur les années)\"}]\n",
    "            )\n",
    "        ])\n",
    "    )]\n",
    ")\n",
    "\n",
    "# Ajout des annotations\n",
    "high_annotations = [dict(x=-0.05,\n",
    "                         y=depTop['faits'].mean(),\n",
    "                         xanchor=\"right\",\n",
    "                         yanchor=\"bottom\",\n",
    "                         xref=\"x domain\",\n",
    "                         yref=\"y\",\n",
    "                         text=\"Moyenne des faits: %.2f\" % depTop['faits'].mean(),\n",
    "                         showarrow=False)]\n",
    "\n",
    "low_annotations = [dict(x=-0.05,\n",
    "                        y=depTop2['tauxpourmille'].mean(),\n",
    "                        xanchor=\"right\",\n",
    "                        yanchor=\"bottom\",\n",
    "                        xref=\"x domain\",\n",
    "                        yref=\"y\",\n",
    "                        text=\"Moyenne des taux: %.2f\" % depTop2['tauxpourmille'].mean(),\n",
    "                        showarrow=False)]\n",
    "\n",
    "# Ajout des légendes et du titre\n",
    "fig.update_layout(\n",
    "    title=\"Comparaison des départements par nombre de faits et taux pour mille\",\n",
    "    xaxis_title='Région',\n",
    "    yaxis_title='Valeur'\n",
    ")\n",
    "\n",
    "# Ajout des annotations\n",
    "fig.add_annotation(\n",
    "    text=\"Sélectionnez la source des données:\",\n",
    "    showarrow=False,\n",
    "    x=0,\n",
    "    y=1.1,\n",
    "    yref=\"paper\",\n",
    "    xref=\"paper\"\n",
    ")\n",
    "\n",
    "fig.show(\"notebook\")"
   ]
  },
  {
   "cell_type": "markdown",
   "id": "2486450d",
   "metadata": {},
   "source": [
    "Conclusion : On observe que lorsqu'on analyse sur le nombre de faits ou le taux pour mille les résultats changent. \n",
    "Le taux pour mille permet de pondérer par rapport au nombre d'habitants du département. Ainsi, l'étude statistique est moins sensible à la grandeur de l'échantillon et on peut comparer département comme Paris avec un petit comme la guyane. \n",
    "\n",
    "On observe ici que la Seine Saint-Denis, dont les villes ne sont pas ressorties dans le top 5 de la précédente étude, ressort en 2ème position. "
   ]
  },
  {
   "cell_type": "markdown",
   "id": "b4fefd62",
   "metadata": {},
   "source": [
    "## C) Crimes et délits commis au niveau régional\n"
   ]
  },
  {
   "cell_type": "markdown",
   "id": "bf5dff11",
   "metadata": {},
   "source": [
    "On observe qu'entre 2016 et 2020 le classement est inchangé. Néanmoins, en 2021 et en 2023 Lille se fait devancer par Bordeaux. En 2024 le classement revient à ses valeurs initiales.\n",
    "On observe de plus  en 2020 une baisse du nombre total de faits dans chacune des villes. Cela est du au confinement."
   ]
  },
  {
   "cell_type": "code",
   "execution_count": null,
   "id": "141c2fc6",
   "metadata": {},
   "outputs": [],
   "source": [
    "#Je filtre en fonction des années, je regroupe les classes et je somme les faits de chacune des occurences de cette classe\n",
    "#Ensuite je trie dans l'ordre décroissant pour un meilleur affichage de mon barplot. \n",
    "reg2016=reg.loc[reg['annee']== 2016].groupby('classe')['faits'].sum().sort_values(ascending=False)\n",
    "\n",
    "fig, ax = plt.subplots(figsize = (6,4)) \n",
    "sns.barplot(y=reg2016.index, x=reg2016, ax=ax)\n",
    "plt.title('Distribution des crimes et délits dans les régions françaises en 2016')\n",
    "plt.show()\n"
   ]
  },
  {
   "cell_type": "markdown",
   "id": "57608042",
   "metadata": {},
   "source": [
    "On observe que le délit le plus commis est le vol sans violence contre des personnes ainsi que les destructions et dégradations volontaires. \n",
    "\n",
    "On cherche maintenant à faire une étude \"grosse maille\" de l'évolution au fil du temps des crimes et délits, afin d'en dégager des tendances. "
   ]
  },
  {
   "cell_type": "code",
   "execution_count": null,
   "id": "09c1a0f1",
   "metadata": {},
   "outputs": [],
   "source": [
    "#Maintenant on va chercher a afficher sur le même graphique TOUTES les années, grâce à l'argument 'hue'\n",
    "regTest=reg.groupby(['classe','annee'])['faits'].sum().sort_values(ascending=False).reset_index().sort_values(by='annee')\n",
    "#A noter que .reset_index().sort_values(by='annee') me permet de repasser sous forme d'un DataFrame. Ainsi, je peux librement utiliser l'argument 'hue' pour discrétiser en fonction des années.\n",
    "\n",
    "sns.set_theme(style = \"ticks\", context = \"talk\", palette = \"bright\")\n",
    "fig, ax = plt.subplots(figsize = (10,10)) \n",
    "sns.barplot(y=regTest.classe, x=regTest.faits, ax=ax, hue=regTest.annee)\n",
    "plt.title('Distribution et évolution au cours du temps des crimes et délits dans les régions françaises en fonction des années')\n",
    "plt.show()"
   ]
  },
  {
   "cell_type": "code",
   "execution_count": null,
   "id": "3e7229e0",
   "metadata": {},
   "outputs": [],
   "source": [
    "reg_group=reg.groupby(['annee','classe'])['faits'].sum().unstack()\n",
    "reg_group.plot(figsize = (20, 8), style = 'o-')\n",
    "plt.title('Evolution au cours du temps des crimes et délits dans les régions françaises en fonction des années')\n",
    "plt.legend(bbox_to_anchor=(1.05, 1), loc='upper left')\n",
    "plt.tight_layout()\n",
    "plt.show()"
   ]
  },
  {
   "cell_type": "markdown",
   "id": "f9eac247",
   "metadata": {},
   "source": [
    "Les obeservations sont les mêmes que pour les deux datasets précédents. On observe qu'il y a une augmentation au fil des années des coups et blessures volontaires intrafamiliaux. Cette augmentation a été beaucoup plus importante pendant et après les différents confinements. \n",
    "\n",
    "De même, on observe une baisse des crimes et délits lors des périodes de confinement (2019 et 2020) avant d'augmenter de nouveau.\n",
    "\n",
    "On observe de plus : \n",
    "- Une augmentation du trafic de stupéfiants \n",
    "- Une nette augmentation de l'usage de stupéfiants\n",
    "- Une augmentation des coups et blessures volontaires\n",
    "- Une très faible diminution des vols avec arme \n",
    "- Une diminution des vols violents avec arme \n",
    "- Une triste augmentation des violences sexuelles "
   ]
  },
  {
   "cell_type": "markdown",
   "id": "90407a6a",
   "metadata": {},
   "source": [
    "On se demande maintenant : \n",
    "- Quel est le top 5 des villes dans lesquelles sont commis en majorité les faits ?\n",
    "- Ce classement est-il identique selon les années ? "
   ]
  },
  {
   "cell_type": "code",
   "execution_count": null,
   "id": "65e5c79e",
   "metadata": {},
   "outputs": [],
   "source": [
    "#Représentations du top 5 dans toutes les années disponibles, grâce à Plotly Express \n",
    "\n",
    "regTop=reg.groupby(['annee', 'region'])['faits'].sum().reset_index().sort_values(['annee', 'faits'], ascending=[True, False]).groupby('annee').head(5).reset_index(drop=True)\n",
    "\n",
    "fig = px.bar(regTop,\n",
    "             x = 'region',\n",
    "             y = 'faits',\n",
    "             animation_frame='annee',\n",
    "             color='region')\n",
    "fig.update_layout(title_text = \"Top 5 des régions dans lesquelles le plus de crimes et délits ont été commis au cours du temps\",\n",
    "                  width=1000,\n",
    "                  height=600)\n",
    "fig.show('notebook')"
   ]
  },
  {
   "cell_type": "markdown",
   "id": "60624ac9",
   "metadata": {},
   "source": [
    "On observe que le classement reste identique peu importe les années. \n",
    "L'île de France est la région dans laquelle le plus de crimes et délits ont été commis. Cependant ce classement n'a rien d'étonnant par rapport à la densité de population de cette région. "
   ]
  },
  {
   "cell_type": "markdown",
   "id": "9f699fdc",
   "metadata": {},
   "source": [
    "Qu'en est-il de ce classement si on étudie par rapport au nombre d'habitants ?   \n",
    "Pour rappel, le taux pour mille est le nombre de faits divisé par la population le tout multiplié par 1000. "
   ]
  },
  {
   "cell_type": "code",
   "execution_count": null,
   "id": "717fbe3a",
   "metadata": {},
   "outputs": [],
   "source": [
    "#On va donc trier les villes qui ont le plus gros taux pour mille \n",
    "\n",
    "regTop2=reg.groupby(['annee', 'region'])['tauxpourmille'].sum().reset_index().sort_values(['annee', 'tauxpourmille'], ascending=[True, False]).groupby('annee').head(5).reset_index(drop=True)\n",
    "\n",
    "#On affiche le graphique\n",
    "\n",
    "fig = px.bar(regTop2,\n",
    "             x = 'region',\n",
    "             y = 'tauxpourmille',\n",
    "             animation_frame='annee',\n",
    "             color='region')\n",
    "fig.update_layout(title_text = \"Top 5 des régions dans lesquelles le plus de crimes et délits ont été commis au cours du temps\",\n",
    "                  width=1000,\n",
    "                  height=600)\n",
    "fig.show('notebook')"
   ]
  },
  {
   "cell_type": "markdown",
   "id": "334957ad",
   "metadata": {},
   "source": [
    "Il est maintenant proposé d'étudier les différences entre la sélection du nombre de faits ou le taux pour mille habitants (donc pondéré par rapport au nombre de faits)."
   ]
  },
  {
   "cell_type": "code",
   "execution_count": null,
   "id": "3b47a16f",
   "metadata": {},
   "outputs": [],
   "source": [
    "# Création de la figure\n",
    "fig = go.Figure()\n",
    "\n",
    "# Ajout du premier tracé\n",
    "fig.add_trace(go.Bar(\n",
    "    x=regTop['region'].head(5),\n",
    "    y=regTop['faits'].head(5),\n",
    "    name='Faits',\n",
    "    marker_color='blue', \n",
    "))\n",
    "\n",
    "# Ajout du second tracé\n",
    "fig.add_trace(go.Bar(\n",
    "    x=regTop2['region'].head(5),\n",
    "    y=regTop2['tauxpourmille'].head(5),\n",
    "    name='Taux pour mille',\n",
    "    marker_color='orange'\n",
    "))\n",
    "\n",
    "# Réglage de la taille de la figure\n",
    "fig.update_layout(\n",
    "    autosize=False,\n",
    "    width=800,\n",
    "    height=900,  \n",
    "    title=\"Top 5 par région\",\n",
    "    xaxis_title='Région',\n",
    "    yaxis_title='Valeur'\n",
    ")\n",
    "\n",
    "# Ajout des boutons pour l'interactivité\n",
    "fig.update_layout(\n",
    "    updatemenus=[dict(\n",
    "        type=\"buttons\",\n",
    "        direction=\"right\",\n",
    "        active=0,\n",
    "        x=0.57,\n",
    "        y=1.2,\n",
    "        buttons=list([\n",
    "            dict(\n",
    "                label=\"Faits\",\n",
    "                method=\"update\",\n",
    "                args=[{\"visible\": [True, False]},\n",
    "                      {\"title\": \"Top 5 en fonction du nombre de faits (cumulés sur les années)\"}]\n",
    "            ),\n",
    "            dict(\n",
    "                label=\"Taux pour mille\",\n",
    "                method=\"update\",\n",
    "                args=[{\"visible\": [False, True]},\n",
    "                      {\"title\": \"Top 5 en fonction du taux pour mille (cumulés sur les années)\"}]\n",
    "            )\n",
    "        ])\n",
    "    )]\n",
    ")\n",
    "\n",
    "# Ajout des annotations\n",
    "high_annotations = [dict(x=-0.05,\n",
    "                         y=regTop['faits'].mean(),\n",
    "                         xanchor=\"right\",\n",
    "                         yanchor=\"bottom\",\n",
    "                         xref=\"x domain\",\n",
    "                         yref=\"y\",\n",
    "                         text=\"Moyenne des faits: %.2f\" % regTop['faits'].mean(),\n",
    "                         showarrow=False)]\n",
    "\n",
    "low_annotations = [dict(x=-0.05,\n",
    "                        y=regTop2['tauxpourmille'].mean(),\n",
    "                        xanchor=\"right\",\n",
    "                        yanchor=\"bottom\",\n",
    "                        xref=\"x domain\",\n",
    "                        yref=\"y\",\n",
    "                        text=\"Moyenne des taux: %.2f\" % regTop2['tauxpourmille'].mean(),\n",
    "                        showarrow=False)]\n",
    "\n",
    "# Ajout des légendes et du titre\n",
    "fig.update_layout(\n",
    "    title=\"Comparaison des régions par nombre de faits et taux pour mille\",\n",
    "    xaxis_title='Région',\n",
    "    yaxis_title='Valeur'\n",
    ")\n",
    "\n",
    "# Ajout des annotations\n",
    "fig.add_annotation(\n",
    "    text=\"Sélectionnez la source des données:\",\n",
    "    showarrow=False,\n",
    "    x=0,\n",
    "    y=1.1,\n",
    "    yref=\"paper\",\n",
    "    xref=\"paper\"\n",
    ")\n",
    "\n",
    "fig.show(\"notebook\")"
   ]
  },
  {
   "cell_type": "markdown",
   "id": "10ea92f3",
   "metadata": {},
   "source": [
    "Conclusion : On observe que lorsqu'on analyse sur le nombre de faits ou le taux pour mille les résultats changent. \n",
    "Le taux pour mille permet de pondérer par rapport au nombre d'habitants de la région. Ainsi, l'étude statistique est moins sensible à la grandeur de l'échantillon et on peut comparer une grande région comme l'ile de France avec une petite. \n",
    "\n",
    "On observe ici aussi que ce sont les régions dans lesquelles il y a le plus de mouvement de population (tourisme par exemple) qui sont en tête. \n",
    "Il serait intéressant de corréler cette hypothèse avec une étude statistique complémentaire sur le tourisme en France. "
   ]
  },
  {
   "cell_type": "markdown",
   "id": "34e76642",
   "metadata": {},
   "source": [
    "# IV) Représentations géographiques"
   ]
  },
  {
   "cell_type": "markdown",
   "id": "94e10acc",
   "metadata": {},
   "source": [
    "L'objectif de cette partie est d'utiliser le package GeoPandas pour afficher une carte. \n",
    "\n",
    "GeoPandas nécessite un GeoDataFrame dans lequel une colonne \"geometry\" contient les informations pour créer la carte\n",
    "Cette étude portera sur les données du DataFrame commune.  \n"
   ]
  },
  {
   "cell_type": "markdown",
   "id": "2619e49e",
   "metadata": {},
   "source": [
    "## A) Vue départementale"
   ]
  },
  {
   "cell_type": "code",
   "execution_count": null,
   "id": "2fd7dc64",
   "metadata": {},
   "outputs": [],
   "source": [
    "#Import d'un geojson incluant les géométries \n",
    "json_cles_geo=gpd.read_file('departements.geojson')\n",
    "\n",
    "json_cles_geo['nom']=json_cles_geo['nom'].str.normalize('NFKD').str.encode('ascii', errors='ignore').str.decode('utf-8')\n",
    "json_cles_geo['nom']=json_cles_geo['nom'].apply(lambda nom : nom.upper()) #On met les noms en majuscule\n",
    "json_cles_geo['nom'] = json_cles_geo['nom'].str.replace(\"-\", \" \") #On enleve les tirets pour la concordance avec les valeurs du df dep\n",
    "json_cles_geo['nom'] = json_cles_geo['nom'].str.replace(\"'\", \" \") #On enleve les apostrophes pour la concordance avec les valeurs du df dep\n",
    "json_cles_geo.head()\n"
   ]
  },
  {
   "cell_type": "code",
   "execution_count": null,
   "id": "33614c61",
   "metadata": {},
   "outputs": [],
   "source": [
    "#Pour cette étude, on se concentre exclusivement sur la France métropolitaine. \n",
    "#On supprime donc toutes les lignes des DOM TOMS dont les regions sont : 'GUADELOUPE', 'MARTINIQUE', 'GUYANE', 'LA REUNION', 'MAYOTTE'\n",
    "dep = dep[~dep['region'].isin(['GUADELOUPE', 'MARTINIQUE', 'GUYANE', 'LA REUNION', 'MAYOTTE'])]\n",
    "dep.region.unique()"
   ]
  },
  {
   "cell_type": "code",
   "execution_count": null,
   "id": "61bafb4e",
   "metadata": {},
   "outputs": [],
   "source": [
    "#On créée 1 nouvelle colonne dans dep pouvant accueillir les valeurs de géométrie\n",
    "dep['geometry']= 0\n",
    "dep.head(1)"
   ]
  },
  {
   "cell_type": "code",
   "execution_count": null,
   "id": "9ac7a540",
   "metadata": {},
   "outputs": [],
   "source": [
    "#On cherche maintenant à ajouter ces colonnes au DataFrame dep. \n",
    "#On utilise un dictionnaire clé-valeur pour associer les bonnes coordonnées en fonction du nom du département\n",
    "\n",
    "dico_geo=json_cles_geo.set_index('nom')['geometry'].to_dict()\n",
    "dep['geometry']=dep['departement'].map(dico_geo)\n",
    "\n",
    "dep.head()"
   ]
  },
  {
   "cell_type": "code",
   "execution_count": null,
   "id": "47a84aa2",
   "metadata": {},
   "outputs": [],
   "source": [
    "#On vérifie qu'on a pas créé de nans \n",
    "dep.isna().any(axis = 0) \n",
    "display(pd.DataFrame(dep.isna().sum(), columns=[\"Nombre de NA\"]))  #Aucun NANs, on peut continuer l'analyse la tête haute\n",
    "\n"
   ]
  },
  {
   "cell_type": "code",
   "execution_count": null,
   "id": "2598ff79",
   "metadata": {},
   "outputs": [],
   "source": [
    "#On transforme le DataFrame en GeoDataFrame\n",
    "dep=gpd.GeoDataFrame(dep, geometry = 'geometry')\n",
    "#On fixe un premier CRS qu'on fera évoluer pour en étudier l'influence\n",
    "dep=dep.set_crs('wgs84', allow_override=True)\n",
    "print(dep.crs)"
   ]
  },
  {
   "cell_type": "code",
   "execution_count": null,
   "id": "f933873d",
   "metadata": {},
   "outputs": [],
   "source": [
    "#On affiche le total du nombre de faits, toute année cumulées \n",
    "depTotal=dep.groupby(['departement','geometry'])['faits'].sum().sort_values(ascending=False).reset_index()\n",
    "depTotal=gpd.GeoDataFrame(depTotal, geometry = 'geometry')\n",
    "#depTotal.plot(column= 'faits', cmap='viridis', legend=True, figsize=(10,10), linewidth=1)\n",
    "depTotal.explore(column= 'faits', cmap='viridis', legend=True)"
   ]
  }
 ],
 "metadata": {
  "kernelspec": {
   "display_name": "base",
   "language": "python",
   "name": "python3"
  },
  "language_info": {
   "codemirror_mode": {
    "name": "ipython",
    "version": 3
   },
   "file_extension": ".py",
   "mimetype": "text/x-python",
   "name": "python",
   "nbconvert_exporter": "python",
   "pygments_lexer": "ipython3",
   "version": "3.12.4"
  }
 },
 "nbformat": 4,
 "nbformat_minor": 5
}
