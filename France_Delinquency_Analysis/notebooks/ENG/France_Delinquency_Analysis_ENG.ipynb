{
 "cells": [
  {
   "cell_type": "code",
   "execution_count": null,
   "id": "637374fe",
   "metadata": {},
   "outputs": [],
   "source": [
    "# Import libraries\n",
    "import pandas as pd\n",
    "import numpy as np\n",
    "import matplotlib.pyplot as plt\n",
    "import seaborn as sns\n",
    "import plotly.io as pio\n",
    "import plotly.graph_objects as go\n",
    "import plotly.express as px\n",
    "import geopandas as gpd\n",
    "%matplotlib inline\n",
    "\n",
    "from scipy.stats import pearsonr\n",
    "import statsmodels.api\n",
    "\n",
    "# Set display options for pandas\n",
    "pd.set_option('display.max_columns', None)\n",
    "pd.set_option('display.max_rows', None)\n",
    "\n",
    "# Configure seaborn theme\n",
    "sns.set_theme(style='whitegrid', palette='pastel')\n",
    "# sns.set_theme(style=\"ticks\", context=\"talk\", palette=\"bright\")\n",
    "# sns.color_palette(\"Paired\")"
   ]
  },
  {
   "cell_type": "code",
   "execution_count": null,
   "id": "cc45416b-825b-469f-a4bf-ad455eb552e5",
   "metadata": {},
   "outputs": [],
   "source": [
    "# Import DataFrames\n",
    "commune = pd.read_parquet('donnee-comm-data.gouv-parquet-2023-geographie2024-produit-le2024-07-05.parquet')\n",
    "dep = pd.read_csv('donnee-dep-data.gouv-2023-geographie2024-produit-le2024-07-05.csv', sep=';')\n",
    "reg = pd.read_csv('donnee-reg-data.gouv-2023-geographie2024-produit-le2024-07-05.csv', sep=';')\n",
    "\n",
    "# Display the last 10 rows of the 'commune' DataFrame\n",
    "commune.tail(10)"
   ]
  },
  {
   "cell_type": "markdown",
   "id": "e6e91411",
   "metadata": {},
   "source": [
    "# I) Data Cleaning in the Different DataFrames\n",
    "## A) Checking Consistency and Uniformity of Data\n",
    "### 1) Consistency Check\n",
    "First, it is important to verify that each variable is of the correct type. The goal is to ensure consistency in the value types across the three DataFrames (commune, dep, and reg).\n",
    "Note that dates will be treated separately as they require special handling."
   ]
  },
  {
   "cell_type": "code",
   "execution_count": null,
   "id": "c5628234",
   "metadata": {},
   "outputs": [],
   "source": [
    "## DataFrame commune\n",
    "# Columns 'classe' and 'unité.de.compte' must be of type object\n",
    "commune['classe'] = commune['classe'].astype('str')\n",
    "commune['unité.de.compte'] = commune['unité.de.compte'].astype('str')\n",
    "\n",
    "# Display information about the 'commune' DataFrame\n",
    "commune.info()"
   ]
  },
  {
   "cell_type": "code",
   "execution_count": null,
   "id": "8c5f265f",
   "metadata": {},
   "outputs": [],
   "source": [
    "## DataFrame dep\n",
    "# The column 'tauxpourmille' is not of the correct type; it should be changed from object to float\n",
    "# To do this, each comma must be replaced with a period.\n",
    "# We will also round the values to 10^-3\n",
    "\n",
    "dep['tauxpourmille'] = dep['tauxpourmille'].str.replace(',', '.')\n",
    "dep['tauxpourmille'] = dep['tauxpourmille'].astype(float)\n",
    "dep['tauxpourmille'] = dep['tauxpourmille'].round(3)\n",
    "\n",
    "# Display information about the 'dep' DataFrame\n",
    "dep.info()"
   ]
  },
  {
   "cell_type": "code",
   "execution_count": null,
   "id": "1b60288b",
   "metadata": {},
   "outputs": [],
   "source": [
    "## DataFrame reg\n",
    "# The column 'tauxpourmille' is not of the correct type; it should be changed from object to float\n",
    "reg['tauxpourmille'] = reg['tauxpourmille'].str.replace(',', '.')\n",
    "reg['tauxpourmille'] = reg['tauxpourmille'].astype(float)\n",
    "reg['tauxpourmille'] = reg['tauxpourmille'].round(3)\n",
    "\n",
    "# Display information about the 'reg' DataFrame\n",
    "reg.info()"
   ]
  },
  {
   "cell_type": "markdown",
   "id": "68351fdc",
   "metadata": {},
   "source": [
    "### 2) Checking Data Uniformity\n",
    "It is important to check that the data is uniform, meaning it should always be written in the same way following a single rule.\n",
    "#### a) Quantitative Data"
   ]
  },
  {
   "cell_type": "code",
   "execution_count": null,
   "id": "0f13ac01",
   "metadata": {},
   "outputs": [],
   "source": [
    "reg.head(1)"
   ]
  },
  {
   "cell_type": "code",
   "execution_count": null,
   "id": "eec449c4",
   "metadata": {},
   "outputs": [],
   "source": [
    "## DataFrame commune\n",
    "# Check if all years are written in the same format\n",
    "commune['annee'].unique()\n",
    "\n",
    "# Check if all classes are written in the same format and there are no duplicates written differently\n",
    "commune['classe'].unique()\n",
    "\n",
    "# 'victime' and 'victime entendue' correspond to the same unit of account. This needs to be corrected.\n",
    "commune['unité.de.compte'] = commune['unité.de.compte'].replace('victime entendue', 'victime')\n",
    "\n",
    "# Check if all published values are written in the same format\n",
    "commune['valeur.publiée'].unique()\n",
    "\n",
    "## DataFrame dep\n",
    "# Check if all years are written in the same format\n",
    "dep['annee'].unique()\n",
    "\n",
    "# Check if all classes are written in the same format\n",
    "dep['classe'].unique()\n",
    "\n",
    "# Check if all departments are written in the same format\n",
    "# Note: The value \"20\" is expected to be missing as it corresponds to Corsica, whose code was replaced in 1976 by 2A and 2B\n",
    "dep['Code.département'].unique()\n",
    "\n",
    "# 'victime' and 'victime entendue' correspond to the same unit of account. This needs to be corrected.\n",
    "dep['unité.de.compte'] = dep['unité.de.compte'].replace('victime entendue', 'victime')\n",
    "\n",
    "## DataFrame reg\n",
    "# Check if all years are written in the same format\n",
    "reg['annee'].unique()\n",
    "\n",
    "# Check if all classes are written in the same format\n",
    "reg['classe'].unique()\n",
    "\n",
    "# Check if all regions are present and written in the same format\n",
    "reg['Code.région'].unique()"
   ]
  },
  {
   "cell_type": "markdown",
   "id": "8d429370",
   "metadata": {},
   "source": [
    "#### b) Dates\n",
    "The study of formats has shown that the dates (here \"annee\") are in integer format, which is incorrect. For the subsequent analysis, these variables need to be in datetime64 format."
   ]
  },
  {
   "cell_type": "code",
   "execution_count": null,
   "id": "039f2e2f",
   "metadata": {},
   "outputs": [],
   "source": [
    "commune['annee'] = pd.to_datetime(commune['annee'].apply(lambda x: f\"20{x:02d}\")).dt.year\n",
    "dep['annee'] = pd.to_datetime(dep['annee'].apply(lambda x: f\"20{x:02d}\")).dt.year\n",
    "reg['annee'] = pd.to_datetime(reg['annee'].apply(lambda x: f\"20{x:02d}\")).dt.year"
   ]
  },
  {
   "cell_type": "code",
   "execution_count": null,
   "id": "bb7a1e04",
   "metadata": {},
   "outputs": [],
   "source": [
    "commune.info()"
   ]
  },
  {
   "cell_type": "markdown",
   "id": "a817e5c3",
   "metadata": {},
   "source": [
    "## B) Duplicate Check"
   ]
  },
  {
   "cell_type": "code",
   "execution_count": null,
   "id": "5fd9f2e8-95a2-49b3-9c2c-dc80e429bb8d",
   "metadata": {},
   "outputs": [],
   "source": [
    "# Check for duplicates\n",
    "print('There are', commune.duplicated().sum(), 'duplicates in the df commune')\n",
    "print('There are', dep.duplicated().sum(), 'duplicates in the df dep')\n",
    "print('There are', reg.duplicated().sum(), 'duplicates in the df reg')"
   ]
  },
  {
   "cell_type": "markdown",
   "id": "87ce2818",
   "metadata": {},
   "source": [
    "## C) Missing Values Check\n",
    "### 1) Global Analysis"
   ]
  },
  {
   "cell_type": "code",
   "execution_count": null,
   "id": "cb1bf059-0a08-4b08-badb-0abb1d476e3f",
   "metadata": {},
   "outputs": [],
   "source": [
    "# Check for missing values in the columns of the df 'dep'\n",
    "print('There are', dep.isna().any(axis=0).sum(), 'columns with missing values in the df dep')\n",
    "\n",
    "# Check for missing values in the rows of the df 'dep'\n",
    "# dep.isna().any(axis=1).sum() Not necessary, so omitted"
   ]
  },
  {
   "cell_type": "code",
   "execution_count": null,
   "id": "fae11c7f",
   "metadata": {},
   "outputs": [],
   "source": [
    "# Check for missing values in the columns of the df 'reg'\n",
    "print('There are', reg.isna().any(axis=0).sum(), 'columns with missing values in the df reg')\n",
    "\n",
    "# Check for missing values in the rows of the df 'reg'\n",
    "# reg.isna().any(axis=1).sum() Not necessary, so omitted"
   ]
  },
  {
   "cell_type": "code",
   "execution_count": null,
   "id": "edd6161a",
   "metadata": {},
   "outputs": [],
   "source": [
    "# Check for missing values in the columns of the df 'commune'\n",
    "print('There are', commune.isna().any(axis=0).sum(), 'columns with missing values in the df commune')\n",
    "\n",
    "# Check for missing values in the rows of the df 'commune'\n",
    "print('There are', commune.isna().any(axis=1).sum(), 'rows with missing values out of', commune.shape[0], 'rows in the df.')\n",
    "print('The columns with missing values are: faits, taux pour mille, complementinfoval, complementinfototaux')"
   ]
  },
  {
   "cell_type": "markdown",
   "id": "ff67b915",
   "metadata": {},
   "source": [
    "### 2) Handling Missing Values\n",
    "The metadata file of the dataset indicates that if the value in the \"valeur.publiée\" column is \"ndiff,\" then the variables in the \"faits\" and \"tauxpourmille\" columns will not be filled. Therefore, it has been decided to remove all rows where the \"valeur.publiée\" column has the value \"ndiff.\""
   ]
  },
  {
   "cell_type": "code",
   "execution_count": null,
   "id": "46ea0501",
   "metadata": {},
   "outputs": [],
   "source": [
    "# Remove missing values in the \"faits\" column\n",
    "commune.loc[commune['valeur.publiée'] == 'ndiff', 'faits'] = 0.0\n",
    "\n",
    "# Remove missing values in the \"tauxpourmille\" column\n",
    "commune.loc[commune['valeur.publiée'] == 'ndiff', 'tauxpourmille'] = 0.0\n",
    "commune.isna().any(axis=0)\n",
    "\n",
    "# We observe that there are still NaNs. Let's locate and investigate them\n",
    "commune.loc[commune[['tauxpourmille']].isna().any(axis=1)]\n",
    "\n",
    "# The remaining NaNs can be recalculated because 'tauxpourmille' is the number of 'faits' divided by the population, multiplied by 1000\n",
    "commune['millPOP'].unique()  # Verify that 'millPOP' does not take the value 0, as division by zero would be impossible\n",
    "\n",
    "# Fill missing values in 'tauxpourmille' with calculated values\n",
    "commune['tauxpourmille'] = commune['tauxpourmille'].fillna((commune['faits'] / commune['POP']) * 1000)\n",
    "\n",
    "# There are still NaNs in 'tauxpourmille', which are from cities with 0 population.\n",
    "commune['tauxpourmille'] = commune['tauxpourmille'].fillna(0)\n",
    "\n",
    "# If necessary, drop rows with NaN values in 'tauxpourmille'\n",
    "# commune = commune.dropna(axis=0, how='all', subset=['tauxpourmille'])\n",
    "\n",
    "# Display the number of missing values in each column\n",
    "display(pd.DataFrame(commune.isna().sum(), columns=[\"Number of NA\"]))\n",
    "\n",
    "# The columns \"complementinfoval\" and \"complementinfototaux\" still contain NaNs but are not useful for the analysis.\n"
   ]
  },
  {
   "cell_type": "markdown",
   "id": "56ade08c",
   "metadata": {},
   "source": [
    "Some columns are not necessary for this study, so they should be removed. If it turns out that these columns are needed in the future, simply delete the following cell."
   ]
  },
  {
   "cell_type": "code",
   "execution_count": null,
   "id": "6b2b2fff",
   "metadata": {},
   "outputs": [],
   "source": [
    "## DataFrame commune\n",
    "commune=commune.drop(\"complementinfoval\", axis=1)\n",
    "commune=commune.drop(\"complementinfotaux\", axis=1)\n",
    "commune=commune.drop(\"LOG\", axis=1)\n",
    "commune=commune.drop(\"millLOG\", axis=1)\n",
    "commune=commune.drop(\"millPOP\", axis=1)\n",
    "commune=commune.drop(\"valeur.publiée\", axis=1)\n",
    "## DataFrame reg\n",
    "reg=reg.drop(\"LOG\", axis=1)\n",
    "reg=reg.drop(\"millLOG\", axis=1)\n",
    "reg=reg.drop(\"millPOP\", axis=1)\n",
    "## DataFrame dep\n",
    "dep=dep.drop(\"LOG\", axis=1)\n",
    "dep=dep.drop(\"millLOG\", axis=1)\n",
    "dep=dep.drop(\"millPOP\", axis=1)"
   ]
  },
  {
   "cell_type": "markdown",
   "id": "ec926076",
   "metadata": {},
   "source": [
    "## D) Other Preprocessing\n",
    "Renaming columns for better readability."
   ]
  },
  {
   "cell_type": "code",
   "execution_count": null,
   "id": "3129d9b7",
   "metadata": {},
   "outputs": [],
   "source": [
    "## DataFrame commune\n",
    "dictionnaire = {'CODGEO_2024': 'codgeo',\n",
    "                'unité.de.compte': 'cible',\n",
    "                'valeur.publiée': 'publication',\n",
    "                'POP':'pop',\n",
    "                'millPOP':'millpop'}\n",
    "commune=commune.rename(dictionnaire, axis = 1) \n",
    "## DataFrame reg\n",
    "dictionnaire = {'Code.région': 'region',\n",
    "                'unité.de.compte': 'cible',\n",
    "                'POP':'pop',\n",
    "                'millPOP':'millpop'}\n",
    "reg=reg.rename(dictionnaire, axis = 1)\n",
    "## DataFrame dep\n",
    "dictionnaire = {'Code.département': 'departement',\n",
    "                'Code.région': 'region',\n",
    "                'unité.de.compte': 'cible',\n",
    "                'POP':'pop',\n",
    "                'millPOP':'millpop'}\n",
    "dep=dep.rename(dictionnaire, axis = 1)\n",
    "#dep.head(1)"
   ]
  },
  {
   "cell_type": "markdown",
   "id": "29f50e09",
   "metadata": {},
   "source": [
    "The department and region codes are not very informative. To facilitate post-processing in future studies, it is advisable to replace the codes with their full names."
   ]
  },
  {
   "cell_type": "code",
   "execution_count": null,
   "id": "3ed01c7b",
   "metadata": {},
   "outputs": [],
   "source": [
    "## DataFrame reg\n",
    "# The idea here is to create a key-value dictionary from a JSON (source in the README file) to \"translate\" the code into the region name\n",
    "json_cles_reg = pd.read_json('anciennes-nouvelles-regions.json')\n",
    "dico_reg = json_cles_reg.set_index('new_code')['region'].to_dict()\n",
    "\n",
    "# Map the 'region' column using the dictionary\n",
    "reg['region'] = reg['region'].map(dico_reg)\n",
    "\n",
    "# Display the last 10 rows of the 'reg' DataFrame\n",
    "reg.tail(10)\n"
   ]
  },
  {
   "cell_type": "code",
   "execution_count": null,
   "id": "62fbbad9",
   "metadata": {},
   "outputs": [],
   "source": [
    "## DataFrame dep\n",
    "# First, we modify the region codes to their names as we did previously\n",
    "dep['region'] = dep['region'].map(dico_reg)\n",
    "\n",
    "# Next, we need to create a new key-value dictionary from a CSV file (source in the README file)\n",
    "csv_cles_dep = pd.read_csv('georef-france-departement.csv', sep=';')\n",
    "dico_dep = csv_cles_dep.set_index('Code Officiel Département')['Nom Officiel Département Majuscule'].to_dict()\n",
    "\n",
    "# Map the 'departement' column using the dictionary\n",
    "dep['departement'] = dep['departement'].map(dico_dep)\n",
    "\n",
    "# Display the first few rows of the 'dep' DataFrame\n",
    "dep.head()\n"
   ]
  },
  {
   "cell_type": "code",
   "execution_count": null,
   "id": "474aaa4f",
   "metadata": {},
   "outputs": [],
   "source": [
    "## DataFrame commune \n",
    "csv_cles_com=pd.read_csv('v_commune_2024.csv')\n",
    "dico_com=csv_cles_com.set_index('COM')['NCC'].to_dict()\n",
    "commune['codgeo']=commune['codgeo'].map(dico_com)\n",
    "\n",
    "commune.head(1)"
   ]
  },
  {
   "cell_type": "code",
   "execution_count": null,
   "id": "1e6a8b8a",
   "metadata": {},
   "outputs": [],
   "source": [
    "# Check if the previous steps generated any NaNs\n",
    "print('There are', dep.isna().any(axis=0).sum(), 'columns with missing values in the df dep')\n",
    "print('There are', reg.isna().any(axis=0).sum(), 'columns with missing values in the df reg')\n",
    "print('There are', commune.isna().any(axis=0).sum(), 'columns with missing values in the df commune')"
   ]
  },
  {
   "cell_type": "code",
   "execution_count": null,
   "id": "e4e6baa1",
   "metadata": {},
   "outputs": [],
   "source": [
    "# We can rename the \"codgeo\" column, as it no longer reflects the variables it contains\n",
    "dictionnaire = {'codgeo': 'ville'}\n",
    "\n",
    "commune = commune.rename(dictionnaire, axis=1)\n",
    "\n",
    "# Display the first row of the 'commune' DataFrame\n",
    "commune.head(1)"
   ]
  },
  {
   "cell_type": "markdown",
   "id": "a2a09d69",
   "metadata": {},
   "source": [
    "# II) Exploratory Statistics\n",
    "## A) Descriptive Analysis of the Datasets\n",
    "# One of the underlying goals is the study and handling of outliers.\n",
    "\n",
    "### 1) Commune DataFrame\n",
    "\n",
    "#### a) Quantitative Variables"
   ]
  },
  {
   "cell_type": "code",
   "execution_count": null,
   "id": "675abc19",
   "metadata": {},
   "outputs": [],
   "source": [
    "## DataFrame commune\n",
    "commune.describe()\n",
    "\n",
    "# We observe a very large disparity in the number of 'faits'"
   ]
  },
  {
   "cell_type": "markdown",
   "id": "8613f0e1",
   "metadata": {},
   "source": [
    "Variable faits"
   ]
  },
  {
   "cell_type": "code",
   "execution_count": null,
   "id": "7dc4d596",
   "metadata": {},
   "outputs": [],
   "source": [
    "# Plot the boxplot to display the distribution of 'faits'\n",
    "sns.boxplot(x='faits', data=commune)\n",
    "# We observe that there are 8 outliers. To determine the most appropriate treatment, we need to investigate whether these are extreme values or outliers.\n",
    "\n",
    "# To do this, we sort the DataFrame by the number of 'faits' in descending order\n",
    "comm_sorted = commune.sort_values(by='faits', ascending=False)\n",
    "\n",
    "# Display the top 10 rows of the sorted DataFrame\n",
    "comm_sorted.head(10)\n"
   ]
  },
  {
   "cell_type": "markdown",
   "id": "28077cc0",
   "metadata": {},
   "source": [
    "It is observed that the number of incidents varies greatly and is very high in the Paris region. These values represent extreme values rather than outliers. Therefore, they are kept in the dataset."
   ]
  },
  {
   "cell_type": "markdown",
   "id": "3c1747f0",
   "metadata": {},
   "source": [
    "Variable pop (population)"
   ]
  },
  {
   "cell_type": "code",
   "execution_count": null,
   "id": "0ed170a4",
   "metadata": {},
   "outputs": [],
   "source": [
    "# Plot the boxplot to display the distribution of 'pop'\n",
    "sns.boxplot(x='pop', data=commune)\n",
    "\n",
    "# To do this, we sort the DataFrame by the population ('pop') in descending order\n",
    "comm_sorted = commune.sort_values(by='pop', ascending=False)\n",
    "\n",
    "# Display the top 10 rows of the sorted DataFrame\n",
    "comm_sorted.head(10)"
   ]
  },
  {
   "cell_type": "code",
   "execution_count": null,
   "id": "7c1ed9f2",
   "metadata": {},
   "outputs": [],
   "source": [
    "# Study excluding Paris and Marseille\n",
    "comm_sorted_out = commune.loc[~commune['ville'].isin(['PARIS', 'MARSEILLE'])].sort_values(by='pop', ascending=False)\n",
    "\n",
    "# Display the top 10 rows of the sorted DataFrame\n",
    "comm_sorted_out.head(10)"
   ]
  },
  {
   "cell_type": "markdown",
   "id": "71434f88",
   "metadata": {},
   "source": [
    "We observe extreme values for the population. Upon examining the populations, it is clear that these extreme values correspond to the populations of Paris (2.1 million in 2023), Marseille (873,000 inhabitants in 2023), and Lyon (522,000 inhabitants). Therefore, these values are not outliers but represent extreme values."
   ]
  },
  {
   "cell_type": "markdown",
   "id": "a5021d80",
   "metadata": {},
   "source": [
    "Variable tauxpourmille"
   ]
  },
  {
   "cell_type": "code",
   "execution_count": null,
   "id": "7a8ff94d",
   "metadata": {},
   "outputs": [],
   "source": [
    "# Plot the boxplot to display the distribution of 'tauxpourmille'\n",
    "sns.boxplot(x='tauxpourmille', data=commune)\n",
    "# We observe that there are many outliers. To determine the most appropriate treatment, we need to investigate whether these are extreme values or outliers.\n",
    "\n",
    "# To do this, we sort the DataFrame by 'tauxpourmille' in descending order\n",
    "comm_sorted = commune.sort_values(by='tauxpourmille', ascending=False)\n",
    "\n",
    "# Display the top 20 rows of the sorted DataFrame\n",
    "comm_sorted.head(20)\n"
   ]
  },
  {
   "cell_type": "markdown",
   "id": "dc6c456a",
   "metadata": {},
   "source": [
    "We observe extreme values. The highest values are located in areas where:\n",
    "\n",
    "There are a lot of tourists (non-residents)\n",
    "The population is small\n",
    "Since the \"taux pour mille\" (rate per thousand) is calculated as the number of incidents divided by the population, multiplied by 1,000, it is completely normal for the variance of the rate per thousand to be so high."
   ]
  },
  {
   "cell_type": "markdown",
   "id": "7551028c",
   "metadata": {},
   "source": [
    "#### b) Qualitative Variables"
   ]
  },
  {
   "cell_type": "code",
   "execution_count": null,
   "id": "b69ff79d",
   "metadata": {},
   "outputs": [],
   "source": [
    "# Observe the type of each variable\n",
    "commune.dtypes\n",
    "# Determine the categorical variables and store them in a DataFrame\n",
    "cat_commune = commune.select_dtypes(include='O')\n",
    "\n",
    "# Display the count of different categories in categorical variables using the value_counts method\n",
    "print(cat_commune[\"ville\"].value_counts())\n",
    "print(\"------------------------------\")\n",
    "print(cat_commune[\"classe\"].value_counts())  # Not needed since in all cases, each class is filled for each city\n",
    "print(\"------------------------------\")\n",
    "print(cat_commune[\"cible\"].value_counts())\n"
   ]
  },
  {
   "cell_type": "code",
   "execution_count": null,
   "id": "f3f4230d",
   "metadata": {},
   "outputs": [],
   "source": [
    "# Determine and study the frequency of each category\n",
    "print(cat_commune[\"ville\"].value_counts(normalize=True))\n",
    "print(\"------------------------------\")\n",
    "print(cat_commune[\"cible\"].value_counts(normalize=True))"
   ]
  },
  {
   "cell_type": "markdown",
   "id": "e81f09e5",
   "metadata": {},
   "source": [
    "#### c) Analysis of Relationships\n",
    "To examine relationships between variables in a dataset, we need to distinguish three levels of analysis:\n",
    "\n",
    "Relationships between quantitative variables,\n",
    "Relationships between qualitative variables,\n",
    "Relationships between qualitative and quantitative variables.\n",
    "For each level of analysis, we ask the question: is there dependence or independence between the variables? The goal of this part is to determine whether there is a dependence between variables in the dataset.\n",
    "\n",
    "The pairs of variables to be studied will be as follows:\n",
    "\n",
    "faits (quantitative variable) / pop (quantitative variable): Pearson or Spearman Test\n",
    "faits (quantitative variable) / annee (qualitative variable): ANOVA Test"
   ]
  },
  {
   "cell_type": "markdown",
   "id": "6e2464f2",
   "metadata": {},
   "source": [
    "Pair facts / population: Pearson Correlation Test\n",
    "\n",
    "Here, we are wondering if there is an influence between the size of the population and the number of crimes committed within a commune."
   ]
  },
  {
   "cell_type": "code",
   "execution_count": null,
   "id": "28981905",
   "metadata": {},
   "outputs": [],
   "source": [
    "## Creating the DataFrame\n",
    "com_fait_pop = commune.loc[commune['annee'] == 2016].groupby(['ville', 'pop'])['faits'].sum().sort_values(ascending=False).reset_index()\n",
    "\n",
    "## Hypotheses\n",
    "# H0: The size of the population does not influence the number of crimes committed\n",
    "# H1: The size of the population does influence the number of crimes committed: the variables are correlated\n",
    "\n",
    "## Statistical test\n",
    "pearsonr(x=com_fait_pop['pop'], y=com_fait_pop['faits'])\n",
    "\n",
    "print(\"p-value: \", pearsonr(x=com_fait_pop['pop'], y=com_fait_pop['faits'])[1])\n",
    "print(\"coefficient: \", pearsonr(x=com_fait_pop['pop'], y=com_fait_pop['faits'])[0])\n",
    "\n",
    "# Since the p-value is 0, we reject H0 and conclude H1.\n",
    "\n",
    "#sns.lmplot(x='pop', y='faits', data=com_fait_pop)\n",
    "sns.lmplot(x=\"pop\", y=\"faits\", data=com_fait_pop, height=5, order=2, line_kws={'color': 'red'})"
   ]
  },
  {
   "cell_type": "markdown",
   "id": "6bc2242b",
   "metadata": {},
   "source": [
    "According to the Pearson statistical test, there is a linear correlation between the size of the population and the number of crimes committed within a commune."
   ]
  },
  {
   "cell_type": "markdown",
   "id": "81e73c99",
   "metadata": {},
   "source": [
    "Couple of variables \"faits\" / \"année\": ANOVA correlation test\n",
    "\n",
    "Here, we are investigating whether there is an influence between the time evolution (year) and the number of crimes."
   ]
  },
  {
   "cell_type": "code",
   "execution_count": null,
   "id": "e7be9c3e",
   "metadata": {},
   "outputs": [],
   "source": [
    "## Creating the DataFrame\n",
    "commune_annee_fait = commune.groupby(['annee'])['faits'].sum().sort_values(ascending=False).reset_index().sort_values(by='annee')\n",
    "\n",
    "## Hypotheses\n",
    "# H0: There is no linear relationship between the year and the number of crimes committed\n",
    "# H1: There is a linear relationship between the year and the number of crimes committed\n",
    "\n",
    "## Statistical test\n",
    "result = statsmodels.formula.api.ols('annee ~ faits', data=commune_annee_fait).fit()\n",
    "statsmodels.api.stats.anova_lm(result)\n",
    "\n",
    "# Since the p-value is greater than 5%, we reject H1 and conclude H0"
   ]
  },
  {
   "cell_type": "code",
   "execution_count": null,
   "id": "1bd6bec9",
   "metadata": {},
   "outputs": [],
   "source": [
    "## DataFrame reg\n",
    "# The idea here is to create a key-value dictionary from a JSON (source in the README file) to \"translate\" the code into the region name\n",
    "json_cles_reg = pd.read_json('anciennes-nouvelles-regions.json')\n",
    "dico_reg = json_cles_reg.set_index('new_code')['region'].to_dict()\n",
    "\n",
    "# Map the 'region' column using the dictionary\n",
    "reg['region'] = reg['region'].map(dico_reg)\n",
    "\n",
    "# Display the last 10 rows of the 'reg' DataFrame\n",
    "reg.tail(10)\n"
   ]
  },
  {
   "cell_type": "markdown",
   "id": "2922ca5f",
   "metadata": {},
   "source": [
    "There is no linear relationship between the year and the total number of crimes committed.\n",
    "\n",
    "However, it would be interesting to investigate whether a linear relationship exists between a specific type of crime (such as domestic violence injuries) and the year."
   ]
  },
  {
   "cell_type": "code",
   "execution_count": null,
   "id": "addf1511",
   "metadata": {},
   "outputs": [],
   "source": [
    "## Creating the DataFrame\n",
    "commune_annee_fait = commune.loc[commune['classe'] == 'Coups et blessures volontaires intrafamiliaux'].groupby(['annee'])['faits'].sum().sort_values(ascending=False).reset_index().sort_values(by='annee')\n",
    "\n",
    "## Hypotheses\n",
    "# H0: There is no linear relationship between the year and the number of domestic voluntary assaults and injuries\n",
    "# H1: There is a linear relationship between the year and the number of domestic voluntary assaults and injuries\n",
    "\n",
    "## Statistical test\n",
    "result = statsmodels.formula.api.ols('annee ~ faits', data=commune_annee_fait).fit()\n",
    "statsmodels.api.stats.anova_lm(result)\n",
    "\n",
    "# Since the p-value is less than 5%, we reject H0 and conclude H1"
   ]
  },
  {
   "cell_type": "markdown",
   "id": "b2ec8917",
   "metadata": {},
   "source": [
    "This statistical test shows the following conclusion:\n",
    "After the lockdown, the number of domestic violence injuries skyrocketed and continues to rise."
   ]
  },
  {
   "cell_type": "code",
   "execution_count": null,
   "id": "6c0a3f5e",
   "metadata": {},
   "outputs": [],
   "source": [
    "sns.lineplot(x=commune_annee_fait['annee'], y=commune_annee_fait['faits'], marker = 'o', label = 'Faits');"
   ]
  },
  {
   "cell_type": "markdown",
   "id": "a8458f52",
   "metadata": {},
   "source": [
    "### 2) DataFrame dep\n",
    "#### a) Quantitative variables"
   ]
  },
  {
   "cell_type": "code",
   "execution_count": null,
   "id": "c48f0f0c",
   "metadata": {},
   "outputs": [],
   "source": [
    "dep.describe()"
   ]
  },
  {
   "cell_type": "markdown",
   "id": "661c9bfe",
   "metadata": {},
   "source": [
    "Variable faits"
   ]
  },
  {
   "cell_type": "code",
   "execution_count": null,
   "id": "c4d03a2c",
   "metadata": {},
   "outputs": [],
   "source": [
    "# Plotting the boxplot to show the distribution of the facts\n",
    "sns.boxplot(x = 'faits', data = dep)\n",
    "# We observe that there are 8 outliers. To proceed with the most suitable treatment, we need to study whether these are extreme values or outliers.\n",
    "\n",
    "# To do this, we sort the DataFrame by the number of facts in descending order\n",
    "dep_sorted = dep.sort_values(by = 'faits', ascending = False)\n",
    "dep_sorted.head(10)"
   ]
  },
  {
   "cell_type": "markdown",
   "id": "a10f67b9",
   "metadata": {},
   "source": [
    "It is observed that the number of incidents varies significantly and is notably high in the Parisian region. These values represent extreme values rather than outliers. Therefore, they are kept in the dataset."
   ]
  },
  {
   "cell_type": "markdown",
   "id": "e50f5118",
   "metadata": {},
   "source": [
    "Variable pop (population)"
   ]
  },
  {
   "cell_type": "code",
   "execution_count": null,
   "id": "30610de4",
   "metadata": {},
   "outputs": [],
   "source": [
    "# Plotting the boxplot to show the distribution of the population\n",
    "sns.boxplot(x = 'pop', data = commune)\n",
    "\n",
    "# To do this, we sort the DataFrame by the population in descending order\n",
    "dep_sorted = dep.sort_values(by = 'pop', ascending = False)\n",
    "dep_sorted.head(10)"
   ]
  },
  {
   "cell_type": "markdown",
   "id": "c2524cf7",
   "metadata": {},
   "source": [
    "There are outliers present, which represent extreme values rather than outliers. Indeed, these outliers characterize the department of Nord (this department is the most populated in France with 2.6 million inhabitants)."
   ]
  },
  {
   "cell_type": "markdown",
   "id": "d1a408b5",
   "metadata": {},
   "source": [
    "Study of population densities"
   ]
  },
  {
   "cell_type": "code",
   "execution_count": null,
   "id": "beb08f4b",
   "metadata": {},
   "outputs": [],
   "source": [
    "# Grouping the data by department and population, and summing the facts\n",
    "dep_fait_pop = dep.groupby(['departement', 'pop'])['faits'].sum().sort_values(ascending=False).reset_index()\n",
    "\n",
    "# Plotting the KDE (Kernel Density Estimate) for the population distribution in the French departments\n",
    "sns.kdeplot(dep_fait_pop[\"pop\"])\n",
    "plt.title('Population Distribution in French Departments')\n",
    "plt.show()\n"
   ]
  },
  {
   "cell_type": "markdown",
   "id": "60b27a5a",
   "metadata": {},
   "source": [
    "#### b) Quantitative variables"
   ]
  },
  {
   "cell_type": "code",
   "execution_count": null,
   "id": "91214c55",
   "metadata": {},
   "outputs": [],
   "source": [
    "# Observing the type of each variable\n",
    "dep.dtypes\n",
    "# Determining the categorical variables and storing them in a DataFrame\n",
    "cat_dep = dep.select_dtypes(include='O')\n",
    "\n",
    "# Displaying the count of different categories in the categorical variables using the value_counts method\n",
    "print(cat_dep[\"departement\"].value_counts())\n",
    "print(\"------------------------------\")\n",
    "print(cat_dep[\"classe\"].value_counts())  # Not needed since in all cases, each city has a class provided\n",
    "print(\"------------------------------\")\n",
    "print(cat_dep[\"cible\"].value_counts())\n"
   ]
  },
  {
   "cell_type": "code",
   "execution_count": null,
   "id": "cc69fe35",
   "metadata": {},
   "outputs": [],
   "source": [
    "# Determining and studying the frequency of each category\n",
    "print(cat_dep[\"departement\"].value_counts(normalize=True))\n",
    "print(\"------------------------------\")\n",
    "print(cat_dep[\"cible\"].value_counts(normalize=True))"
   ]
  },
  {
   "cell_type": "markdown",
   "id": "88681f43",
   "metadata": {},
   "source": [
    "#### c) Analysis of relationships"
   ]
  },
  {
   "cell_type": "markdown",
   "id": "abc5224d",
   "metadata": {},
   "source": [
    "Another way to check for linear relationships is by using the correlation matrix and the seaborn pairplot. "
   ]
  },
  {
   "cell_type": "code",
   "execution_count": null,
   "id": "255419a0",
   "metadata": {},
   "outputs": [],
   "source": [
    "dep_group=dep.groupby(['annee','classe'])['faits'].sum().unstack()\n",
    "dep_group.head()"
   ]
  },
  {
   "cell_type": "code",
   "execution_count": null,
   "id": "c4130981",
   "metadata": {},
   "outputs": [],
   "source": [
    "sns.pairplot(data=dep_group, diag_kind='kde')"
   ]
  },
  {
   "cell_type": "markdown",
   "id": "d92eb30b",
   "metadata": {},
   "source": [
    "### 3) DataFrame reg\n",
    "#### a) Quantitative variables"
   ]
  },
  {
   "cell_type": "code",
   "execution_count": null,
   "id": "699af42c",
   "metadata": {},
   "outputs": [],
   "source": [
    "reg.describe()"
   ]
  },
  {
   "cell_type": "markdown",
   "id": "14263e15",
   "metadata": {},
   "source": [
    "Variable faits"
   ]
  },
  {
   "cell_type": "code",
   "execution_count": null,
   "id": "9edea199",
   "metadata": {},
   "outputs": [],
   "source": [
    "# Plotting the distribution of the 'faits' variable\n",
    "sns.boxplot(x='faits', data=reg)\n",
    "# Unsurprisingly, there are also extreme values in the Paris region.\n",
    "reg_sorted = reg.sort_values(by='faits', ascending=False)\n",
    "reg_sorted.head(10) "
   ]
  },
  {
   "cell_type": "markdown",
   "id": "e23f550b",
   "metadata": {},
   "source": [
    "Variable pop"
   ]
  },
  {
   "cell_type": "code",
   "execution_count": null,
   "id": "1f73d48b",
   "metadata": {},
   "outputs": [],
   "source": [
    "# Plotting the distribution of the 'pop' variable\n",
    "sns.boxplot(x='pop', data=reg)\n",
    "\n",
    "# Sorting the DataFrame by population in descending order\n",
    "reg_sorted = reg.sort_values(by='pop', ascending=False)\n",
    "reg_sorted.head(10) "
   ]
  },
  {
   "cell_type": "markdown",
   "id": "52d9ef85",
   "metadata": {},
   "source": [
    "Study of population densities"
   ]
  },
  {
   "cell_type": "code",
   "execution_count": null,
   "id": "6296ff81",
   "metadata": {},
   "outputs": [],
   "source": [
    "reg_fait_pop = reg.groupby(['region', 'pop'])['faits'].sum().sort_values(ascending=False).reset_index()\n",
    "\n",
    "sns.kdeplot(reg_fait_pop[\"pop\"])\n",
    "plt.title('Population Distribution in French Regions')\n",
    "plt.show()"
   ]
  },
  {
   "cell_type": "markdown",
   "id": "ba82aa07",
   "metadata": {},
   "source": [
    "We observe a distribution with a variance significantly smaller than in the previous DataFrames. Indeed, the Île-de-France region is the most densely populated, with approximately 1020 inhabitants per km²."
   ]
  },
  {
   "cell_type": "markdown",
   "id": "5c0bc498",
   "metadata": {},
   "source": [
    "#### b) Quantitative variables"
   ]
  },
  {
   "cell_type": "code",
   "execution_count": null,
   "id": "df98bd05",
   "metadata": {},
   "outputs": [],
   "source": [
    "# Observing the data types of each variable\n",
    "reg.dtypes\n",
    "\n",
    "# Identifying categorical variables and storing them in a DataFrame\n",
    "cat_reg = reg.select_dtypes(include='O')\n",
    "\n",
    "# Displaying the frequency of different categories in the categorical variables using the value_counts method\n",
    "print(cat_reg[\"region\"].value_counts())\n",
    "print(\"------------------------------\")\n",
    "print(cat_reg[\"classe\"].value_counts())  # This is unnecessary as each class is reported for each region\n",
    "print(\"------------------------------\")\n",
    "print(cat_reg[\"cible\"].value_counts())"
   ]
  },
  {
   "cell_type": "code",
   "execution_count": null,
   "id": "3eaa5145",
   "metadata": {},
   "outputs": [],
   "source": [
    "# Determining and studying the frequency of each category\n",
    "print(cat_reg[\"region\"].value_counts(normalize=True))\n",
    "print(\"------------------------------\")\n",
    "print(cat_reg[\"cible\"].value_counts(normalize=True))"
   ]
  },
  {
   "cell_type": "markdown",
   "id": "2277c57b",
   "metadata": {},
   "source": [
    "# III) Statistical Studies\n",
    "\n",
    "The most interesting aspect initially is to study which type of offense is most frequently committed at the level of communes, departments, and regions. \n",
    "Normally, the distributions should be identical (if all reports have been correctly made).\n",
    "\n",
    "## A) Crimes and offenses committed at the communal level"
   ]
  },
  {
   "cell_type": "code",
   "execution_count": null,
   "id": "64a70a4e",
   "metadata": {},
   "outputs": [],
   "source": [
    "# Filter data for the year 2016, group by 'classe' and sum the 'faits' (crimes/offenses) for each class\n",
    "# Sort in descending order for better display of my barplot.\"\n",
    "commune2016 = commune.loc[commune['annee'] == 2016].groupby('classe')['faits'].sum().sort_values(ascending=False)\n",
    "\n",
    "# Create a bar plot with a size of 6x4 inches\n",
    "fig, ax = plt.subplots(figsize=(6, 4)) \n",
    "sns.barplot(y=commune2016.index, x=commune2016, ax=ax)  # Plot the data with 'classe' on the y-axis\n",
    "plt.title('Distribution of Crimes and Offenses in French Communes in 2016')  # Title of the plot\n",
    "plt.show()  # Display the plot"
   ]
  },
  {
   "cell_type": "code",
   "execution_count": null,
   "id": "e7c73a30",
   "metadata": {},
   "outputs": [],
   "source": [
    "commune_part = commune.loc[commune['annee'] == 2016].groupby(['classe', 'annee'])['faits'].sum().sort_values(ascending=False).reset_index()\n",
    "\n",
    "plt.figure(figsize=(7, 7))\n",
    "\n",
    "# Plot the pie chart without labels\n",
    "plt.pie(x=commune_part.faits, \n",
    "        labels=None,  # No labels on the chart\n",
    "        autopct=lambda x: str(round(x, 2)) + '%', \n",
    "        pctdistance=1.15, \n",
    "        wedgeprops={'linewidth': 1, 'edgecolor': 'black'})\n",
    "\n",
    "# Add the legend with labels\n",
    "plt.legend(labels=['Thefts without violence against individuals',\n",
    "                   'Deliberate destruction and damage',\n",
    "                   'Intentional assault and battery', 'Thefts from vehicles',\n",
    "                   'Drug use', 'Home burglaries',\n",
    "                   'Domestic violence assault and battery',\n",
    "                   'Thefts of vehicles', 'Other intentional assault and battery',\n",
    "                   'Violent theft without a weapon', 'Sexual violence',\n",
    "                   \"Theft of vehicle accessories\", 'Drug trafficking',\n",
    "                   'Thefts with weapons'],\n",
    "           bbox_to_anchor=(1.05, 0.5), loc='center left')\n",
    "plt.title('Share of Crimes and Offenses in French Communes in 2016')\n",
    "plt.show()"
   ]
  },
  {
   "cell_type": "markdown",
   "id": "588c33dd",
   "metadata": {},
   "source": [
    "We observe that the most frequently committed offense is theft without violence against individuals.\n",
    "We now aim to conduct a high-level study of the evolution of crimes and offenses over time in order to identify trends"
   ]
  },
  {
   "cell_type": "code",
   "execution_count": null,
   "id": "58b0abd8",
   "metadata": {},
   "outputs": [],
   "source": [
    "# Now we will try to display all the years on the same graph, using the 'hue' argument\n",
    "communeTest = commune.groupby(['classe', 'annee'])['faits'].sum().sort_values(ascending=False).reset_index().sort_values(by='annee')\n",
    "# Note that .reset_index().sort_values(by='annee') allows me to convert back to a DataFrame. This way, I can freely use the 'hue' argument to separate by year.\n",
    "\n",
    "sns.set_theme(style=\"ticks\", context=\"talk\", palette=\"bright\")\n",
    "fig, ax = plt.subplots(figsize=(10, 10))\n",
    "sns.barplot(y=communeTest.classe, x=communeTest.faits, ax=ax, hue=communeTest.annee)\n",
    "plt.title('Distribution and evolution over time of crimes and offenses in French communes by year')\n",
    "plt.show()"
   ]
  },
  {
   "cell_type": "code",
   "execution_count": null,
   "id": "f040954c",
   "metadata": {},
   "outputs": [],
   "source": [
    "# Grouping the data by year ('annee') and crime type ('classe'), summing the occurrences of each crime\n",
    "commune_group = commune.groupby(['annee', 'classe'])['faits'].sum().unstack()\n",
    "\n",
    "# Plotting the grouped data with a line plot\n",
    "commune_group.plot(figsize=(20, 8), style='o-')\n",
    "\n",
    "# Adding a title to the plot\n",
    "plt.title('Evolution over time of crimes and offenses in French communes by year')\n",
    "\n",
    "# Adjusting the legend placement outside the plot for better visibility\n",
    "plt.legend(bbox_to_anchor=(1.05, 1), loc='upper left')\n",
    "\n",
    "# Adjusting the layout to avoid overlap\n",
    "plt.tight_layout()\n",
    "\n",
    "# Displaying the plot\n",
    "plt.show()"
   ]
  },
  {
   "cell_type": "markdown",
   "id": "7dde542e",
   "metadata": {},
   "source": [
    "We observe an increase over the years in domestic violence (voluntary injuries within families). This increase was much more significant during and after the various lockdowns.\n",
    "\n",
    "Similarly, we observe a decrease in crimes and offenses during the lockdown periods (2019 and 2020), before increasing again. This is due to the fact that people were confined, making it harder to commit offenses.\n",
    "\n",
    "Additionally, we observe:\n",
    "\n",
    "An increase in drug trafficking\n",
    "A marked rise in drug use\n",
    "An increase in voluntary injuries (assaults)\n",
    "A very slight decrease in armed theft\n",
    "A decrease in violent armed thefts\n",
    "A increase in sexual violence"
   ]
  },
  {
   "cell_type": "markdown",
   "id": "e951344d",
   "metadata": {},
   "source": [
    "We now ask ourselves:\n",
    "\n",
    "What are the top 5 cities where most offenses are committed?\n",
    "Is this ranking the same across different years?"
   ]
  },
  {
   "cell_type": "code",
   "execution_count": null,
   "id": "867f06cc",
   "metadata": {},
   "outputs": [],
   "source": [
    "# Display the first 20 rows of the 'commune' DataFrame for 2016\n",
    "commune.head(20)\n",
    "\n",
    "# Summing the number of crimes for each city in 2016\n",
    "commune2016Top = commune.loc[commune['annee'] == 2016].groupby(['ville'])['faits'].sum().sort_values(ascending=False).head(5)\n",
    "\n",
    "# Setting the theme and color palette for the plot\n",
    "sns.set_theme(style='whitegrid', palette='pastel')\n",
    "\n",
    "# Creating a figure and axis for the plot\n",
    "fig, ax = plt.subplots(figsize=(10, 4))\n",
    "\n",
    "# Plotting the barplot for the top 5 cities with the most crimes in 2016\n",
    "sns.barplot(x=commune2016Top.index, y=commune2016Top, ax=ax)\n",
    "\n",
    "# Adding a title to the plot\n",
    "plt.title('Top 5 Cities with the Most Crimes and Offenses in 2016')\n",
    "\n",
    "# Displaying the plot\n",
    "plt.show()"
   ]
  },
  {
   "cell_type": "code",
   "execution_count": null,
   "id": "4e75d096",
   "metadata": {},
   "outputs": [],
   "source": [
    "# Group the data by year ('annee') and city ('ville'), summing the number of crimes ('faits')\n",
    "communeTop = commune.groupby(['annee', 'ville'])['faits'].sum().reset_index() \\\n",
    "    .sort_values(['annee', 'faits'], ascending=[True, False]) \\\n",
    "    .groupby('annee').head(5).reset_index(drop=True)\n",
    "\n",
    "# Create a bar plot using Plotly Express\n",
    "fig = px.bar(communeTop,\n",
    "             x='ville',          # Cities on the x-axis\n",
    "             y='faits',          # Number of crimes on the y-axis\n",
    "             animation_frame='annee',  # Animation by year\n",
    "             color='ville')      # Color by city\n",
    "\n",
    "# Customize the layout of the plot\n",
    "fig.update_layout(title_text=\"Top 5 Cities with the Most Crimes and Offenses Over Time\",\n",
    "                  width=800,          # Set plot width\n",
    "                  height=600)         # Set plot height\n",
    "\n",
    "# Display the plot\n",
    "fig.show('notebook')"
   ]
  },
  {
   "cell_type": "markdown",
   "id": "1341b798",
   "metadata": {},
   "source": [
    "We observe that between 2016 and 2020, the ranking remains unchanged. However, in 2021 and 2023, Lille is overtaken by Bordeaux. In 2024, the ranking returns to its initial values.\n",
    "Furthermore, we observe a decrease in the total number of offenses in each city in 2020. This is due to the lockdown."
   ]
  },
  {
   "cell_type": "markdown",
   "id": "03b31ee4",
   "metadata": {},
   "source": [
    "What about this ranking when we consider the number of inhabitants?\n",
    "For reference, the rate per thousand is the number of offenses divided by the population, all multiplied by 1000."
   ]
  },
  {
   "cell_type": "code",
   "execution_count": null,
   "id": "3b3271ec",
   "metadata": {},
   "outputs": [],
   "source": [
    "# Group the data by year ('annee') and city ('ville'), summing the crime rate per thousand ('tauxpourmille')\n",
    "communeTop2 = commune.groupby(['annee', 'ville'])['tauxpourmille'].sum().reset_index() \\\n",
    "    .sort_values(['annee', 'tauxpourmille'], ascending=[True, False]) \\\n",
    "    .groupby('annee').head(5).reset_index(drop=True)\n",
    "\n",
    "# Create a bar plot using Plotly Express\n",
    "fig = px.bar(communeTop2,\n",
    "             x='ville',            # Cities on the x-axis\n",
    "             y='tauxpourmille',    # Crime rate per thousand on the y-axis\n",
    "             animation_frame='annee',  # Animation by year\n",
    "             color='ville')        # Color by city\n",
    "\n",
    "# Customize the layout of the plot\n",
    "fig.update_layout(title_text=\"Top 5 Cities with the Highest Crime Rate per Thousand People Over Time\",\n",
    "                  width=1000,            # Set plot width\n",
    "                  height=600)           # Set plot height\n",
    "\n",
    "# Display the plot\n",
    "fig.show('notebook')"
   ]
  },
  {
   "cell_type": "markdown",
   "id": "934ab00c",
   "metadata": {},
   "source": [
    "It is now suggested to study the differences between selecting the number of offenses or the rate per thousand inhabitants (thus weighted by the number of offenses)."
   ]
  },
  {
   "cell_type": "code",
   "execution_count": null,
   "id": "2c69da81",
   "metadata": {},
   "outputs": [],
   "source": [
    "# Create the figure\n",
    "fig = go.Figure()\n",
    "\n",
    "# Add the first trace\n",
    "fig.add_trace(go.Bar(\n",
    "    x=communeTop['ville'].head(5),\n",
    "    y=communeTop['faits'].head(5),\n",
    "    name='Crimes',\n",
    "    marker_color='blue', \n",
    "))\n",
    "\n",
    "# Add the second trace\n",
    "fig.add_trace(go.Bar(\n",
    "    x=communeTop2['ville'].head(5),\n",
    "    y=communeTop2['tauxpourmille'].head(5),\n",
    "    name='Crime Rate per Thousand',\n",
    "    marker_color='orange'\n",
    "))\n",
    "\n",
    "# Adjust the figure size\n",
    "fig.update_layout(\n",
    "    autosize=False,\n",
    "    width=800,\n",
    "    height=900,  \n",
    "    title=\"Top 5 by City\",\n",
    "    xaxis_title='City',\n",
    "    yaxis_title='Value'\n",
    ")\n",
    "\n",
    "# Add buttons for interactivity\n",
    "fig.update_layout(\n",
    "    updatemenus=[dict(\n",
    "        type=\"buttons\",\n",
    "        direction=\"right\",\n",
    "        active=0,\n",
    "        x=0.57,\n",
    "        y=1.2,\n",
    "        buttons=list([ \n",
    "            dict(\n",
    "                label=\"Crimes\",\n",
    "                method=\"update\",\n",
    "                args=[{\"visible\": [True, False]},\n",
    "                      {\"title\": \"Top 5 Based on Number of Crimes (Cumulative over the Years)\"}]\n",
    "            ),\n",
    "            dict(\n",
    "                label=\"Crime Rate per Thousand\",\n",
    "                method=\"update\",\n",
    "                args=[{\"visible\": [False, True]},\n",
    "                      {\"title\": \"Top 5 Based on Crime Rate per Thousand (Cumulative over the Years)\"}]\n",
    "            )\n",
    "        ])\n",
    "    )]\n",
    ")\n",
    "\n",
    "# Add annotations\n",
    "high_annotations = [dict(x=-0.05,\n",
    "                         y=communeTop['faits'].mean(),\n",
    "                         xanchor=\"right\",\n",
    "                         yanchor=\"bottom\",\n",
    "                         xref=\"x domain\",\n",
    "                         yref=\"y\",\n",
    "                         text=\"Average Crimes: %.2f\" % communeTop['faits'].mean(),\n",
    "                         showarrow=False)]\n",
    "\n",
    "low_annotations = [dict(x=-0.05,\n",
    "                        y=communeTop2['tauxpourmille'].mean(),\n",
    "                        xanchor=\"right\",\n",
    "                        yanchor=\"bottom\",\n",
    "                        xref=\"x domain\",\n",
    "                        yref=\"y\",\n",
    "                        text=\"Average Crime Rate: %.2f\" % communeTop2['tauxpourmille'].mean(),\n",
    "                        showarrow=False)]\n",
    "\n",
    "# Add the legend and title\n",
    "fig.update_layout(\n",
    "    title=\"Comparison of Cities by Number of Crimes and Crime Rate per Thousand\",\n",
    "    xaxis_title='Cities',\n",
    "    yaxis_title='Value'\n",
    ")\n",
    "\n",
    "# Add the annotation\n",
    "fig.add_annotation(\n",
    "    text=\"Select the data source:\",\n",
    "    showarrow=False,\n",
    "    x=0,\n",
    "    y=1.1,\n",
    "    yref=\"paper\",\n",
    "    xref=\"paper\"\n",
    ")\n",
    "\n",
    "fig.show(\"notebook\")\n"
   ]
  },
  {
   "cell_type": "markdown",
   "id": "d27889d0",
   "metadata": {},
   "source": [
    "Conclusion: We observe that when analyzing either the number of offenses or the rate per thousand inhabitants, the results change.\n",
    "The rate per thousand allows us to account for the population size of the city. Thus, the statistical study is less sensitive to the sample size, and we can compare a large city like Paris with a small village like Saint-Cast.\n",
    "\n",
    "As in previous hypothesis, cities that attract tourists (a perfect example being Roissy with its international airport) rise in the ranking."
   ]
  },
  {
   "cell_type": "markdown",
   "id": "c5699abb",
   "metadata": {},
   "source": [
    "## B) Crimes and offenses committed at the departmental level"
   ]
  },
  {
   "cell_type": "code",
   "execution_count": null,
   "id": "ffee1b30",
   "metadata": {},
   "outputs": [],
   "source": [
    "# Filter by year, group by crime class, and sum the number of incidents for each class\n",
    "dep2016 = dep.loc[dep['annee'] == 2016].groupby('classe')['faits'].sum().sort_values(ascending=False)\n",
    "\n",
    "# Create a barplot to visualize the distribution of crimes and offenses in French departments in 2016\n",
    "fig, ax = plt.subplots(figsize=(6, 4)) \n",
    "sns.barplot(y=dep2016.index, x=dep2016, ax=ax)\n",
    "plt.title('Distribution of Crimes and Offenses in French Departments in 2016')\n",
    "plt.show()"
   ]
  },
  {
   "cell_type": "markdown",
   "id": "4124a26a",
   "metadata": {},
   "source": [
    "We observe that the most frequently committed offense is theft without violence against individuals.\n",
    "We now aim to conduct a high-level study of the evolution of crimes and offenses over time in order to identify trends."
   ]
  },
  {
   "cell_type": "code",
   "execution_count": null,
   "id": "c006658e",
   "metadata": {},
   "outputs": [],
   "source": [
    "# Now, we want to display ALL years on the same graph using the 'hue' argument\n",
    "depTest = dep.groupby(['classe', 'annee'])['faits'].sum().sort_values(ascending=False).reset_index().sort_values(by='annee')\n",
    "\n",
    "# Note that .reset_index().sort_values(by='annee') converts it back to a DataFrame. This allows me to freely use the 'hue' argument to differentiate by year.\n",
    "\n",
    "sns.set_theme(style=\"ticks\", context=\"talk\", palette=\"bright\")\n",
    "fig, ax = plt.subplots(figsize=(10, 10))\n",
    "sns.barplot(y=depTest.classe, x=depTest.faits, ax=ax, hue=depTest.annee)\n",
    "plt.title('Distribution and Evolution of Crimes and Offenses Over Time in French Departments by Year')\n",
    "plt.show()"
   ]
  },
  {
   "cell_type": "code",
   "execution_count": null,
   "id": "07663fdd",
   "metadata": {},
   "outputs": [],
   "source": [
    "# Group the data by year and crime class, summing the number of crimes\n",
    "dep_group = dep.groupby(['annee', 'classe'])['faits'].sum().unstack()\n",
    "\n",
    "# Plot the evolution of crimes over time for each class\n",
    "dep_group.plot(figsize=(20, 8), style='o-')\n",
    "\n",
    "# Set the title and layout for the plot\n",
    "plt.title('Evolution of Crimes and Offenses Over Time in French Departments by Year')\n",
    "plt.legend(bbox_to_anchor=(1.05, 1), loc='upper left')\n",
    "\n",
    "# Adjust layout to prevent clipping of labels\n",
    "plt.tight_layout()\n",
    "\n",
    "# Show the plot\n",
    "plt.show()"
   ]
  },
  {
   "cell_type": "markdown",
   "id": "a1fe3787",
   "metadata": {},
   "source": [
    "The conclusions are identical to those from the study of data at the communal level.\n",
    "\n",
    "We observe an increase over the years in domestic violence (voluntary injuries within families). This increase was much more significant during and after the various lockdowns.\n",
    "\n",
    "Similarly, we observe a decrease in crimes and offenses during the lockdown periods (2019 and 2020), before increasing again. This is due to the fact that people were confined, making it harder to commit offenses.\n",
    "\n",
    "Additionally, we observe:\n",
    "\n",
    "- An increase in drug trafficking\n",
    "- A marked rise in drug use\n",
    "- An increase in voluntary injuries (assaults)\n",
    "- A very slight decrease in armed theft\n",
    "- A decrease in violent armed thefts (possibly at the expense of thefts without violence?)\n",
    "- A sad increase in sexual violence"
   ]
  },
  {
   "cell_type": "markdown",
   "id": "28b16d08",
   "metadata": {},
   "source": [
    "We now ask ourselves:\n",
    "\n",
    "What are the top 5 cities where most offenses are committed?\n",
    "Is this ranking the same across different years?"
   ]
  },
  {
   "cell_type": "code",
   "execution_count": null,
   "id": "b2b5632b",
   "metadata": {},
   "outputs": [],
   "source": [
    "# Group the data by year and department, summing the number of crimes for each combination\n",
    "depTop = dep.groupby(['annee', 'departement'])['faits'].sum().reset_index().sort_values(['annee', 'faits'], ascending=[True, False]).groupby('annee').head(5).reset_index(drop=True)\n",
    "\n",
    "# Create a bar plot with Plotly Express showing the top 5 departments for each year\n",
    "fig = px.bar(depTop,\n",
    "             x='departement',  # Departments on the x-axis\n",
    "             y='faits',  # Number of crimes on the y-axis\n",
    "             animation_frame='annee',  # Create an animation for each year\n",
    "             color='departement')  # Color bars by department\n",
    "\n",
    "# Update the layout of the plot with a title and size adjustments\n",
    "fig.update_layout(title_text=\"Top 5 Departments Where Most Crimes Were Committed Over Time\",\n",
    "                  width=1000,  # Set the width of the plot\n",
    "                  height=600)  # Set the height of the plot\n",
    "\n",
    "# Show the plot in the notebook\n",
    "fig.show('notebook')"
   ]
  },
  {
   "cell_type": "markdown",
   "id": "c46d6ecf",
   "metadata": {},
   "source": [
    "We observe that the ranking remains the same between 2016 and 2020.\n",
    "The positions of the Nord and Bouches-du-Rhône departments switch starting from 2021, as do those of the Rhône and Seine-Saint-Denis."
   ]
  },
  {
   "cell_type": "markdown",
   "id": "6f955939",
   "metadata": {},
   "source": [
    "What about this ranking when we consider the number of inhabitants?\n",
    "For reference, the rate per thousand is the number of offenses divided by the population, all multiplied by 1000."
   ]
  },
  {
   "cell_type": "code",
   "execution_count": null,
   "id": "2f1d0765",
   "metadata": {},
   "outputs": [],
   "source": [
    "# Now, let's sort the departments with the highest crime rate per thousand people\n",
    "depTop2 = dep.groupby(['annee', 'departement'])['tauxpourmille'].sum().reset_index().sort_values(['annee', 'tauxpourmille'], ascending=[True, False]).groupby('annee').head(5).reset_index(drop=True)\n",
    "\n",
    "# Display the plot\n",
    "fig = px.bar(depTop2,\n",
    "             x='departement',  # Departments on the x-axis\n",
    "             y='tauxpourmille',  # Crime rate per thousand on the y-axis\n",
    "             animation_frame='annee',  # Create an animation for each year\n",
    "             color='departement')  # Color bars by department\n",
    "\n",
    "# Update the layout with title and size adjustments\n",
    "fig.update_layout(title_text=\"Top 5 Departments with the Highest Crime Rate Over Time\",\n",
    "                  width=1000,  # Set the width of the plot\n",
    "                  height=600)  # Set the height of the plot\n",
    "\n",
    "# Show the plot in the notebook\n",
    "fig.show('notebook')"
   ]
  },
  {
   "cell_type": "markdown",
   "id": "58e07828",
   "metadata": {},
   "source": [
    "It is now proposed to study the differences between selecting the number of offenses or the rate per thousand inhabitants (thus weighted by the number of offenses)."
   ]
  },
  {
   "cell_type": "code",
   "execution_count": null,
   "id": "ee963670",
   "metadata": {},
   "outputs": [],
   "source": [
    "# Create the figure\n",
    "fig = go.Figure()\n",
    "\n",
    "# Add the first trace (for total crimes/facts)\n",
    "fig.add_trace(go.Bar(\n",
    "    x=depTop['departement'].head(5),  # First 5 departments based on number of crimes\n",
    "    y=depTop['faits'].head(5),  # Total number of crimes\n",
    "    name='Crimes',  # Label for this trace\n",
    "    marker_color='blue',  # Color of the bars\n",
    "))\n",
    "\n",
    "# Add the second trace (for crime rate per thousand)\n",
    "fig.add_trace(go.Bar(\n",
    "    x=depTop2['departement'].head(5),  # First 5 departments based on crime rate per thousand\n",
    "    y=depTop2['tauxpourmille'].head(5),  # Crime rate per thousand\n",
    "    name='Crime Rate per Thousand',  # Label for this trace\n",
    "    marker_color='orange',  # Color of the bars\n",
    "))\n",
    "\n",
    "# Adjust the figure size\n",
    "fig.update_layout(\n",
    "    autosize=False,  # Set to False for manual size adjustments\n",
    "    width=800,  # Set width of the plot\n",
    "    height=900,  # Set height of the plot\n",
    "    title=\"Top 5 by Department\",  # Title of the plot\n",
    "    xaxis_title='Department',  # Title for the x-axis\n",
    "    yaxis_title='Value'  # Title for the y-axis\n",
    ")\n",
    "\n",
    "# Add buttons for interactivity to switch between \"Faits\" and \"Crime Rate per Thousand\"\n",
    "fig.update_layout(\n",
    "    updatemenus=[dict(\n",
    "        type=\"buttons\",\n",
    "        direction=\"right\",\n",
    "        active=0,\n",
    "        x=0.57,\n",
    "        y=1.2,\n",
    "        buttons=list([\n",
    "            dict(\n",
    "                label=\"Crimes\",  # Button to display total crimes\n",
    "                method=\"update\",\n",
    "                args=[{\"visible\": [True, False]},\n",
    "                      {\"title\": \"Top 5 based on Total Crimes (Cumulative over Years)\"}]\n",
    "            ),\n",
    "            dict(\n",
    "                label=\"Crime Rate per Thousand\",  # Button to display crime rate per thousand\n",
    "                method=\"update\",\n",
    "                args=[{\"visible\": [False, True]},\n",
    "                      {\"title\": \"Top 5 based on Crime Rate per Thousand (Cumulative over Years)\"}]\n",
    "            )\n",
    "        ])\n",
    "    )]\n",
    ")\n",
    "\n",
    "# Add annotations for average values\n",
    "high_annotations = [dict(x=-0.05,\n",
    "                         y=depTop['faits'].mean(),\n",
    "                         xanchor=\"right\",\n",
    "                         yanchor=\"bottom\",\n",
    "                         xref=\"x domain\",\n",
    "                         yref=\"y\",\n",
    "                         text=\"Average Crimes: %.2f\" % depTop['faits'].mean(),\n",
    "                         showarrow=False)]\n",
    "\n",
    "low_annotations = [dict(x=-0.05,\n",
    "                        y=depTop2['tauxpourmille'].mean(),\n",
    "                        xanchor=\"right\",\n",
    "                        yanchor=\"bottom\",\n",
    "                        xref=\"x domain\",\n",
    "                        yref=\"y\",\n",
    "                        text=\"Average Crime Rate: %.2f\" % depTop2['tauxpourmille'].mean(),\n",
    "                        showarrow=False)]\n",
    "\n",
    "# Add the legend and title for the plot\n",
    "fig.update_layout(\n",
    "    title=\"Comparison of Departments by Number of Crimes and Crime Rate per Thousand\",\n",
    "    xaxis_title='Department',\n",
    "    yaxis_title='Value'\n",
    ")\n",
    "\n",
    "# Add general annotations to provide instructions for data source selection\n",
    "fig.add_annotation(\n",
    "    text=\"Select Data Source:\",\n",
    "    showarrow=False,\n",
    "    x=0,\n",
    "    y=1.1,\n",
    "    yref=\"paper\",\n",
    "    xref=\"paper\"\n",
    ")\n",
    "\n",
    "# Display the plot in the notebook\n",
    "fig.show(\"notebook\")"
   ]
  },
  {
   "cell_type": "markdown",
   "id": "2486450d",
   "metadata": {},
   "source": [
    "Conclusion: We observe that when analyzing either the number of offenses or the rate per thousand inhabitants, the results change.\n",
    "The rate per thousand allows us to account for the population size of the department. Thus, the statistical study is less sensitive to the sample size, and we can compare a department like Paris with a smaller one like Guyane.\n",
    "\n",
    "Here, we observe that Seine-Saint-Denis, whose cities did not appear in the top 5 of the previous study, ranks second."
   ]
  },
  {
   "cell_type": "markdown",
   "id": "b4fefd62",
   "metadata": {},
   "source": [
    "## C) Crimes and offenses committed at the regional level\n"
   ]
  },
  {
   "cell_type": "markdown",
   "id": "bf5dff11",
   "metadata": {},
   "source": [
    "We observe that between 2016 and 2020, the ranking remains unchanged. However, in 2021 and 2023, Lille is overtaken by Bordeaux. In 2024, the ranking returns to its initial values.\n",
    "Additionally, we observe a decrease in the total number of offenses in each city in 2020. This is due to the lockdown."
   ]
  },
  {
   "cell_type": "code",
   "execution_count": null,
   "id": "141c2fc6",
   "metadata": {},
   "outputs": [],
   "source": [
    "# Filter by year, group by class, and sum the number of crimes for each class occurrence\n",
    "# Then sort in descending order for a better display of the barplot.\n",
    "reg2016 = reg.loc[reg['annee'] == 2016].groupby('classe')['faits'].sum().sort_values(ascending=False)\n",
    "\n",
    "# Create the bar plot\n",
    "fig, ax = plt.subplots(figsize=(6, 4)) \n",
    "sns.barplot(y=reg2016.index, x=reg2016, ax=ax)\n",
    "plt.title('Distribution of Crimes and Offenses in French Regions in 2016')\n",
    "plt.show()"
   ]
  },
  {
   "cell_type": "markdown",
   "id": "57608042",
   "metadata": {},
   "source": [
    "We observe that the most frequently committed offenses are theft without violence against individuals, as well as intentional destruction and damage.\n",
    "\n",
    "We now aim to conduct a high-level study of the evolution of crimes and offenses over time in order to identify trends"
   ]
  },
  {
   "cell_type": "code",
   "execution_count": null,
   "id": "09c1a0f1",
   "metadata": {},
   "outputs": [],
   "source": [
    "# Now, we will display all years on the same graph using the 'hue' argument\n",
    "regTest = reg.groupby(['classe', 'annee'])['faits'].sum().sort_values(ascending=False).reset_index().sort_values(by='annee')\n",
    "# Note that .reset_index().sort_values(by='annee') converts it back into a DataFrame,\n",
    "# allowing the use of the 'hue' argument to discretize by year.\n",
    "\n",
    "sns.set_theme(style=\"ticks\", context=\"talk\", palette=\"bright\")\n",
    "fig, ax = plt.subplots(figsize=(10, 10))\n",
    "sns.barplot(y=regTest.classe, x=regTest.faits, ax=ax, hue=regTest.annee)\n",
    "plt.title('Distribution and Evolution of Crimes and Offenses in French Regions Over Time by Year')\n",
    "plt.show()"
   ]
  },
  {
   "cell_type": "code",
   "execution_count": null,
   "id": "3e7229e0",
   "metadata": {},
   "outputs": [],
   "source": [
    "# Group by year and crime class, summing the number of crimes\n",
    "reg_group = reg.groupby(['annee', 'classe'])['faits'].sum().unstack()\n",
    "\n",
    "# Plot the evolution over time for each crime class\n",
    "reg_group.plot(figsize=(20, 8), style='o-')\n",
    "\n",
    "# Add a title and adjust legend position\n",
    "plt.title('Evolution of Crimes and Offenses in French Regions Over Time by Year')\n",
    "plt.legend(bbox_to_anchor=(1.05, 1), loc='upper left')\n",
    "\n",
    "# Adjust layout to prevent clipping\n",
    "plt.tight_layout()\n",
    "\n",
    "# Show the plot\n",
    "plt.show()"
   ]
  },
  {
   "cell_type": "markdown",
   "id": "f9eac247",
   "metadata": {},
   "source": [
    "The observations are the same as for the previous two datasets. We observe an increase over the years in domestic violence (voluntary injuries within families). This increase was much more significant during and after the various lockdowns.\n",
    "\n",
    "Similarly, we observe a decrease in crimes and offenses during the lockdown periods (2019 and 2020), before increasing again.\n",
    "\n",
    "Additionally, we observe:\n",
    "\n",
    "- An increase in drug trafficking\n",
    "- A marked rise in drug use\n",
    "- An increase in voluntary injuries (assaults)\n",
    "- A very slight decrease in armed theft\n",
    "- A decrease in violent armed thefts (possibly at the expense of thefts without violence?)\n",
    "- A sad increase in sexual violence"
   ]
  },
  {
   "cell_type": "markdown",
   "id": "90407a6a",
   "metadata": {},
   "source": [
    "We now ask ourselves:\n",
    "\n",
    "What are the top 5 cities where most offenses are committed?\n",
    "Is this ranking the same across different years?"
   ]
  },
  {
   "cell_type": "code",
   "execution_count": null,
   "id": "65e5c79e",
   "metadata": {},
   "outputs": [],
   "source": [
    "# Group by year and region, sum the number of crimes, and sort the values to get the top 5 regions for each year\n",
    "regTop = reg.groupby(['annee', 'region'])['faits'].sum().reset_index().sort_values(['annee', 'faits'], ascending=[True, False]).groupby('annee').head(5).reset_index(drop=True)\n",
    "\n",
    "# Create an animated bar chart using Plotly Express\n",
    "fig = px.bar(regTop,\n",
    "             x='region',\n",
    "             y='faits',\n",
    "             animation_frame='annee',\n",
    "             color='region')\n",
    "\n",
    "# Update the layout with a title and set the size of the chart\n",
    "fig.update_layout(title_text=\"Top 5 Regions with the Most Crimes and Offenses Over Time\",\n",
    "                  width=1000,\n",
    "                  height=600)\n",
    "\n",
    "# Display the chart in a notebook\n",
    "fig.show('notebook')"
   ]
  },
  {
   "cell_type": "markdown",
   "id": "60624ac9",
   "metadata": {},
   "source": [
    "We observe that the ranking remains the same regardless of the year.\n",
    "Île-de-France is the region where the most crimes and offenses have been committed. However, this ranking is not surprising given the population density of the region."
   ]
  },
  {
   "cell_type": "markdown",
   "id": "9f699fdc",
   "metadata": {},
   "source": [
    "What about this ranking when we consider the number of inhabitants?\n",
    "For reference, the rate per thousand is the number of offenses divided by the population, all multiplied by 1000."
   ]
  },
  {
   "cell_type": "code",
   "execution_count": null,
   "id": "717fbe3a",
   "metadata": {},
   "outputs": [],
   "source": [
    "# Sorting regions by the highest crime rate per thousand (tauxpourmille) for each year\n",
    "regTop2 = reg.groupby(['annee', 'region'])['tauxpourmille'].sum().reset_index().sort_values(['annee', 'tauxpourmille'], ascending=[True, False]).groupby('annee').head(5).reset_index(drop=True)\n",
    "\n",
    "# Display the chart\n",
    "fig = px.bar(regTop2,\n",
    "             x='region',\n",
    "             y='tauxpourmille',\n",
    "             animation_frame='annee',\n",
    "             color='region')\n",
    "\n",
    "# Update the layout of the chart with title and size\n",
    "fig.update_layout(title_text=\"Top 5 Regions with the Highest Crime Rate per Thousand Over Time\",\n",
    "                  width=1000,\n",
    "                  height=600)\n",
    "\n",
    "# Show the chart in the notebook\n",
    "fig.show('notebook')"
   ]
  },
  {
   "cell_type": "markdown",
   "id": "334957ad",
   "metadata": {},
   "source": [
    "It is now proposed to study the differences between selecting the number of offenses or the rate per thousand inhabitants (thus weighted by the number of offenses)"
   ]
  },
  {
   "cell_type": "code",
   "execution_count": null,
   "id": "47a0099f",
   "metadata": {},
   "outputs": [],
   "source": [
    "# Create the figure\n",
    "fig = go.Figure()\n",
    "\n",
    "# Add the first trace\n",
    "fig.add_trace(go.Bar(\n",
    "    x=regTop['region'].head(5),\n",
    "    y=regTop['faits'].head(5),\n",
    "    name='Crimes',\n",
    "    marker_color='blue', \n",
    "))\n",
    "\n",
    "# Add the second trace\n",
    "fig.add_trace(go.Bar(\n",
    "    x=regTop2['region'].head(5),\n",
    "    y=regTop2['tauxpourmille'].head(5),\n",
    "    name='Crime Rate per Thousand',\n",
    "    marker_color='orange'\n",
    "))\n",
    "\n",
    "# Adjust the figure size\n",
    "fig.update_layout(\n",
    "    autosize=False,\n",
    "    width=800,\n",
    "    height=900,  \n",
    "    title=\"Top 5 by Region\",\n",
    "    xaxis_title='Region',\n",
    "    yaxis_title='Value'\n",
    ")\n",
    "\n",
    "# Add buttons for interactivity\n",
    "fig.update_layout(\n",
    "    updatemenus=[dict(\n",
    "        type=\"buttons\",\n",
    "        direction=\"right\",\n",
    "        active=0,\n",
    "        x=0.57,\n",
    "        y=1.2,\n",
    "        buttons=list([ \n",
    "            dict(\n",
    "                label=\"Crimes\",\n",
    "                method=\"update\",\n",
    "                args=[{\"visible\": [True, False]},\n",
    "                      {\"title\": \"Top 5 Based on Number of Crimes (Aggregated Over the Years)\"}]\n",
    "            ),\n",
    "            dict(\n",
    "                label=\"Crime Rate per Thousand\",\n",
    "                method=\"update\",\n",
    "                args=[{\"visible\": [False, True]},\n",
    "                      {\"title\": \"Top 5 Based on Crime Rate per Thousand (Aggregated Over the Years)\"}]\n",
    "            )\n",
    "        ])\n",
    "    )]\n",
    ")\n",
    "\n",
    "# Add annotations\n",
    "high_annotations = [dict(x=-0.05,\n",
    "                         y=regTop['faits'].mean(),\n",
    "                         xanchor=\"right\",\n",
    "                         yanchor=\"bottom\",\n",
    "                         xref=\"x domain\",\n",
    "                         yref=\"y\",\n",
    "                         text=\"Average Crimes: %.2f\" % regTop['faits'].mean(),\n",
    "                         showarrow=False)]\n",
    "\n",
    "low_annotations = [dict(x=-0.05,\n",
    "                        y=regTop2['tauxpourmille'].mean(),\n",
    "                        xanchor=\"right\",\n",
    "                        yanchor=\"bottom\",\n",
    "                        xref=\"x domain\",\n",
    "                        yref=\"y\",\n",
    "                        text=\"Average Crime Rate: %.2f\" % regTop2['tauxpourmille'].mean(),\n",
    "                        showarrow=False)]\n",
    "\n",
    "# Update legends and title\n",
    "fig.update_layout(\n",
    "    title=\"Comparison of Regions by Number of Crimes and Crime Rate per Thousand\",\n",
    "    xaxis_title='Region',\n",
    "    yaxis_title='Value'\n",
    ")\n",
    "\n",
    "# Add additional annotations\n",
    "fig.add_annotation(\n",
    "    text=\"Select Data Source:\",\n",
    "    showarrow=False,\n",
    "    x=0,\n",
    "    y=1.1,\n",
    "    yref=\"paper\",\n",
    "    xref=\"paper\"\n",
    ")\n",
    "\n",
    "fig.show(\"notebook\")"
   ]
  },
  {
   "cell_type": "markdown",
   "id": "10ea92f3",
   "metadata": {},
   "source": [
    "Conclusion: We observe that when analyzing either the number of offenses or the rate per thousand, the results change.\n",
    "The rate per thousand allows us to account for the population size of the region. Thus, the statistical study is less sensitive to the sample size, and we can compare a large region like Île-de-France with a smaller one.\n",
    "\n",
    "We also observe that the regions with the most population movement (e.g., tourism) are at the top.\n",
    "It would be interesting to correlate this hypothesis with a complementary statistical study on tourism in France."
   ]
  },
  {
   "cell_type": "markdown",
   "id": "34e76642",
   "metadata": {},
   "source": [
    "# IV) Geographical representations"
   ]
  },
  {
   "cell_type": "markdown",
   "id": "94e10acc",
   "metadata": {},
   "source": [
    "The objective of this section is to use the GeoPandas package to display a map.\n",
    "\n",
    "GeoPandas requires a GeoDataFrame in which a 'geometry' column contains the information needed to create the map.\n",
    "This study will focus on the data from the commune DataFrame."
   ]
  },
  {
   "cell_type": "markdown",
   "id": "2619e49e",
   "metadata": {},
   "source": [
    "## A) Departmental view"
   ]
  },
  {
   "cell_type": "code",
   "execution_count": null,
   "id": "2fd7dc64",
   "metadata": {},
   "outputs": [],
   "source": [
    "import geopandas as gpd\n",
    "\n",
    "# Load the GeoJSON file\n",
    "json_cles_geo = gpd.read_file('departements.geojson')\n",
    "\n",
    "# Normalize, encode to ASCII, remove accents, and convert to uppercase\n",
    "json_cles_geo['nom'] = json_cles_geo['nom'].str.normalize('NFKD').str.encode('ascii', errors='ignore').str.decode('utf-8')\n",
    "\n",
    "# Standardize department names: convert to uppercase and remove hyphens and apostrophes\n",
    "json_cles_geo['nom'] = json_cles_geo['nom'].apply(lambda name: name.upper())\n",
    "json_cles_geo['nom'] = json_cles_geo['nom'].str.replace(r\"[-']\", \" \", regex=True)\n",
    "\n",
    "# Display the first few rows\n",
    "json_cles_geo.head()"
   ]
  },
  {
   "cell_type": "code",
   "execution_count": null,
   "id": "33614c61",
   "metadata": {},
   "outputs": [],
   "source": [
    "# For this study, we focus exclusively on mainland France.\n",
    "# We remove all rows from the DOM-TOMs where the regions are: 'GUADELOUPE', 'MARTINIQUE', 'GUYANE', 'LA REUNION', 'MAYOTTE'\n",
    "dep = dep[~dep['region'].isin(['GUADELOUPE', 'MARTINIQUE', 'GUYANE', 'LA REUNION', 'MAYOTTE'])]\n",
    "dep.region.unique()"
   ]
  },
  {
   "cell_type": "code",
   "execution_count": null,
   "id": "61bafb4e",
   "metadata": {},
   "outputs": [],
   "source": [
    "# We create a new column in dep to hold the geometry values\n",
    "dep['geometry'] = 0\n",
    "dep.head(1)"
   ]
  },
  {
   "cell_type": "code",
   "execution_count": null,
   "id": "9ac7a540",
   "metadata": {},
   "outputs": [],
   "source": [
    "# Now, we aim to add these columns to the dep DataFrame.\n",
    "# We use a key-value dictionary to match the correct coordinates based on the department name\n",
    "\n",
    "dico_geo = json_cles_geo.set_index('nom')['geometry'].to_dict()\n",
    "dep['geometry'] = dep['departement'].map(dico_geo)\n",
    "\n",
    "dep.head()"
   ]
  },
  {
   "cell_type": "code",
   "execution_count": null,
   "id": "47a84aa2",
   "metadata": {},
   "outputs": [],
   "source": [
    "# Check that no NaNs were created\n",
    "dep.isna().any(axis=0)\n",
    "display(pd.DataFrame(dep.isna().sum(), columns=[\"Number of NaNs\"]))  # No NaNs, we can continue the analysis confidently"
   ]
  },
  {
   "cell_type": "code",
   "execution_count": null,
   "id": "2598ff79",
   "metadata": {},
   "outputs": [],
   "source": [
    "# Transform the DataFrame into a GeoDataFrame\n",
    "dep = gpd.GeoDataFrame(dep, geometry='geometry')\n",
    "\n",
    "# Set an initial CRS, which we will later modify to study its influence\n",
    "dep = dep.set_crs('wgs84', allow_override=True)\n",
    "\n",
    "# Print the CRS to verify\n",
    "print(dep.crs)"
   ]
  },
  {
   "cell_type": "code",
   "execution_count": null,
   "id": "f933873d",
   "metadata": {},
   "outputs": [],
   "source": [
    "# Display the total number of incidents, cumulative across all years\n",
    "depTotal = dep.groupby(['departement', 'geometry'])['faits'].sum().sort_values(ascending=False).reset_index()\n",
    "\n",
    "# Convert depTotal into a GeoDataFrame\n",
    "depTotal = gpd.GeoDataFrame(depTotal, geometry='geometry')\n",
    "\n",
    "# Display the map using the 'explore' method, coloring based on the 'faits' column\n",
    "depTotal.explore(column='faits', cmap='viridis', legend=True)"
   ]
  }
 ],
 "metadata": {
  "kernelspec": {
   "display_name": "base",
   "language": "python",
   "name": "python3"
  },
  "language_info": {
   "codemirror_mode": {
    "name": "ipython",
    "version": 3
   },
   "file_extension": ".py",
   "mimetype": "text/x-python",
   "name": "python",
   "nbconvert_exporter": "python",
   "pygments_lexer": "ipython3",
   "version": "3.12.4"
  }
 },
 "nbformat": 4,
 "nbformat_minor": 5
}
